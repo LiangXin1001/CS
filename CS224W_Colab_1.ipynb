{
  "nbformat": 4,
  "nbformat_minor": 0,
  "metadata": {
    "kernelspec": {
      "display_name": "Python 3",
      "language": "python",
      "name": "python3"
    },
    "language_info": {
      "codemirror_mode": {
        "name": "ipython",
        "version": 3
      },
      "file_extension": ".py",
      "mimetype": "text/x-python",
      "name": "python",
      "nbconvert_exporter": "python",
      "pygments_lexer": "ipython3",
      "version": "3.7.3"
    },
    "colab": {
      "provenance": [],
      "machine_shape": "hm",
      "include_colab_link": true
    }
  },
  "cells": [
    {
      "cell_type": "markdown",
      "metadata": {
        "id": "view-in-github",
        "colab_type": "text"
      },
      "source": [
        "<a href=\"https://colab.research.google.com/github/LiangXin1001/CS/blob/main/CS224W_Colab_1.ipynb\" target=\"_parent\"><img src=\"https://colab.research.google.com/assets/colab-badge.svg\" alt=\"Open In Colab\"/></a>"
      ]
    },
    {
      "cell_type": "markdown",
      "metadata": {
        "id": "XuXWJLEm2UWS"
      },
      "source": [
        "# **CS224W - Colab 1**"
      ]
    },
    {
      "cell_type": "markdown",
      "metadata": {
        "id": "8gzsP50bF6Gb"
      },
      "source": [
        "In this Colab, we will write a full pipeline for **learning node embeddings**.\n",
        "We will go through the following 3 steps.\n",
        "\n",
        "To start, we will load a classic graph in network science, the [Karate Club Network](https://en.wikipedia.org/wiki/Zachary%27s_karate_club). We will explore multiple graph statistics for that graph.\n",
        "\n",
        "We will then work together to transform the graph structure into a PyTorch tensor, so that we can perform machine learning over the graph.\n",
        "\n",
        "Finally, we will finish the first learning algorithm on graphs: a node embedding model. For simplicity, our model here is simpler than DeepWalk / node2vec algorithms taught in the lecture. But it's still rewarding and challenging, as we will write it from scratch via PyTorch.\n",
        "\n",
        "Now let's get started! This Colab should take roughly 1 hour to complete.\n",
        "\n",
        "**Note**: Make sure to **restart and run all** before submission, so that the intermediate variables / packages will carry over to the next cell"
      ]
    },
    {
      "cell_type": "markdown",
      "metadata": {
        "id": "Nwwq0nSdmsOL"
      },
      "source": [
        "# 1 Graph Basics\n",
        "To start, we will load a classic graph in network science, the [Karate Club Network](https://en.wikipedia.org/wiki/Zachary%27s_karate_club). We will explore multiple graph statistics for that graph."
      ]
    },
    {
      "cell_type": "markdown",
      "metadata": {
        "id": "FDkpByYYfSzb"
      },
      "source": [
        "## Setup\n",
        "We will heavily use NetworkX in this Colab."
      ]
    },
    {
      "cell_type": "code",
      "metadata": {
        "id": "VWPkJjPAfVNW"
      },
      "source": [
        "import networkx as nx"
      ],
      "execution_count": 1,
      "outputs": []
    },
    {
      "cell_type": "markdown",
      "metadata": {
        "id": "VqUnYT5qUZYh"
      },
      "source": [
        "## Zachary's karate club network\n",
        "\n",
        "The [Karate Club Network](https://en.wikipedia.org/wiki/Zachary%27s_karate_club) is a graph which describes a social network of 34 members of a karate club and documents links between members who interacted outside the club."
      ]
    },
    {
      "cell_type": "code",
      "metadata": {
        "id": "VIETqEfrfy5Y",
        "colab": {
          "base_uri": "https://localhost:8080/",
          "height": 586
        },
        "outputId": "bb4d8912-1f66-4c9f-885e-fc8ebe550484"
      },
      "source": [
        "G = nx.karate_club_graph()\n",
        "\n",
        "# G is an undirected graph\n",
        "type(G)"
      ],
      "execution_count": 2,
      "outputs": [
        {
          "output_type": "execute_result",
          "data": {
            "text/plain": [
              "networkx.classes.graph.Graph"
            ],
            "text/html": [
              "<div style=\"max-width:800px; border: 1px solid var(--colab-border-color);\"><style>\n",
              "      pre.function-repr-contents {\n",
              "        overflow-x: auto;\n",
              "        padding: 8px 12px;\n",
              "        max-height: 500px;\n",
              "      }\n",
              "\n",
              "      pre.function-repr-contents.function-repr-contents-collapsed {\n",
              "        cursor: pointer;\n",
              "        max-height: 100px;\n",
              "      }\n",
              "    </style>\n",
              "    <pre style=\"white-space: initial; background:\n",
              "         var(--colab-secondary-surface-color); padding: 8px 12px;\n",
              "         border-bottom: 1px solid var(--colab-border-color);\"><b>networkx.classes.graph.Graph</b><br/>def __init__(incoming_graph_data=None, **attr)</pre><pre class=\"function-repr-contents function-repr-contents-collapsed\" style=\"\"><a class=\"filepath\" style=\"display:none\" href=\"#\">/usr/local/lib/python3.10/dist-packages/networkx/classes/graph.py</a>Base class for undirected graphs.\n",
              "\n",
              "A Graph stores nodes and edges with optional data, or attributes.\n",
              "\n",
              "Graphs hold undirected edges.  Self loops are allowed but multiple\n",
              "(parallel) edges are not.\n",
              "\n",
              "Nodes can be arbitrary (hashable) Python objects with optional\n",
              "key/value attributes, except that `None` is not allowed as a node.\n",
              "\n",
              "Edges are represented as links between nodes with optional\n",
              "key/value attributes.\n",
              "\n",
              "Parameters\n",
              "----------\n",
              "incoming_graph_data : input graph (optional, default: None)\n",
              "    Data to initialize graph. If None (default) an empty\n",
              "    graph is created.  The data can be any format that is supported\n",
              "    by the to_networkx_graph() function, currently including edge list,\n",
              "    dict of dicts, dict of lists, NetworkX graph, 2D NumPy array, SciPy\n",
              "    sparse matrix, or PyGraphviz graph.\n",
              "\n",
              "attr : keyword arguments, optional (default= no attributes)\n",
              "    Attributes to add to graph as key=value pairs.\n",
              "\n",
              "See Also\n",
              "--------\n",
              "DiGraph\n",
              "MultiGraph\n",
              "MultiDiGraph\n",
              "\n",
              "Examples\n",
              "--------\n",
              "Create an empty graph structure (a &quot;null graph&quot;) with no nodes and\n",
              "no edges.\n",
              "\n",
              "&gt;&gt;&gt; G = nx.Graph()\n",
              "\n",
              "G can be grown in several ways.\n",
              "\n",
              "**Nodes:**\n",
              "\n",
              "Add one node at a time:\n",
              "\n",
              "&gt;&gt;&gt; G.add_node(1)\n",
              "\n",
              "Add the nodes from any container (a list, dict, set or\n",
              "even the lines from a file or the nodes from another graph).\n",
              "\n",
              "&gt;&gt;&gt; G.add_nodes_from([2, 3])\n",
              "&gt;&gt;&gt; G.add_nodes_from(range(100, 110))\n",
              "&gt;&gt;&gt; H = nx.path_graph(10)\n",
              "&gt;&gt;&gt; G.add_nodes_from(H)\n",
              "\n",
              "In addition to strings and integers any hashable Python object\n",
              "(except None) can represent a node, e.g. a customized node object,\n",
              "or even another Graph.\n",
              "\n",
              "&gt;&gt;&gt; G.add_node(H)\n",
              "\n",
              "**Edges:**\n",
              "\n",
              "G can also be grown by adding edges.\n",
              "\n",
              "Add one edge,\n",
              "\n",
              "&gt;&gt;&gt; G.add_edge(1, 2)\n",
              "\n",
              "a list of edges,\n",
              "\n",
              "&gt;&gt;&gt; G.add_edges_from([(1, 2), (1, 3)])\n",
              "\n",
              "or a collection of edges,\n",
              "\n",
              "&gt;&gt;&gt; G.add_edges_from(H.edges)\n",
              "\n",
              "If some edges connect nodes not yet in the graph, the nodes\n",
              "are added automatically.  There are no errors when adding\n",
              "nodes or edges that already exist.\n",
              "\n",
              "**Attributes:**\n",
              "\n",
              "Each graph, node, and edge can hold key/value attribute pairs\n",
              "in an associated attribute dictionary (the keys must be hashable).\n",
              "By default these are empty, but can be added or changed using\n",
              "add_edge, add_node or direct manipulation of the attribute\n",
              "dictionaries named graph, node and edge respectively.\n",
              "\n",
              "&gt;&gt;&gt; G = nx.Graph(day=&quot;Friday&quot;)\n",
              "&gt;&gt;&gt; G.graph\n",
              "{&#x27;day&#x27;: &#x27;Friday&#x27;}\n",
              "\n",
              "Add node attributes using add_node(), add_nodes_from() or G.nodes\n",
              "\n",
              "&gt;&gt;&gt; G.add_node(1, time=&quot;5pm&quot;)\n",
              "&gt;&gt;&gt; G.add_nodes_from([3], time=&quot;2pm&quot;)\n",
              "&gt;&gt;&gt; G.nodes[1]\n",
              "{&#x27;time&#x27;: &#x27;5pm&#x27;}\n",
              "&gt;&gt;&gt; G.nodes[1][&quot;room&quot;] = 714  # node must exist already to use G.nodes\n",
              "&gt;&gt;&gt; del G.nodes[1][&quot;room&quot;]  # remove attribute\n",
              "&gt;&gt;&gt; list(G.nodes(data=True))\n",
              "[(1, {&#x27;time&#x27;: &#x27;5pm&#x27;}), (3, {&#x27;time&#x27;: &#x27;2pm&#x27;})]\n",
              "\n",
              "Add edge attributes using add_edge(), add_edges_from(), subscript\n",
              "notation, or G.edges.\n",
              "\n",
              "&gt;&gt;&gt; G.add_edge(1, 2, weight=4.7)\n",
              "&gt;&gt;&gt; G.add_edges_from([(3, 4), (4, 5)], color=&quot;red&quot;)\n",
              "&gt;&gt;&gt; G.add_edges_from([(1, 2, {&quot;color&quot;: &quot;blue&quot;}), (2, 3, {&quot;weight&quot;: 8})])\n",
              "&gt;&gt;&gt; G[1][2][&quot;weight&quot;] = 4.7\n",
              "&gt;&gt;&gt; G.edges[1, 2][&quot;weight&quot;] = 4\n",
              "\n",
              "Warning: we protect the graph data structure by making `G.edges` a\n",
              "read-only dict-like structure. However, you can assign to attributes\n",
              "in e.g. `G.edges[1, 2]`. Thus, use 2 sets of brackets to add/change\n",
              "data attributes: `G.edges[1, 2][&#x27;weight&#x27;] = 4`\n",
              "(For multigraphs: `MG.edges[u, v, key][name] = value`).\n",
              "\n",
              "**Shortcuts:**\n",
              "\n",
              "Many common graph features allow python syntax to speed reporting.\n",
              "\n",
              "&gt;&gt;&gt; 1 in G  # check if node in graph\n",
              "True\n",
              "&gt;&gt;&gt; [n for n in G if n &lt; 3]  # iterate through nodes\n",
              "[1, 2]\n",
              "&gt;&gt;&gt; len(G)  # number of nodes in graph\n",
              "5\n",
              "\n",
              "Often the best way to traverse all edges of a graph is via the neighbors.\n",
              "The neighbors are reported as an adjacency-dict `G.adj` or `G.adjacency()`\n",
              "\n",
              "&gt;&gt;&gt; for n, nbrsdict in G.adjacency():\n",
              "...     for nbr, eattr in nbrsdict.items():\n",
              "...         if &quot;weight&quot; in eattr:\n",
              "...             # Do something useful with the edges\n",
              "...             pass\n",
              "\n",
              "But the edges() method is often more convenient:\n",
              "\n",
              "&gt;&gt;&gt; for u, v, weight in G.edges.data(&quot;weight&quot;):\n",
              "...     if weight is not None:\n",
              "...         # Do something useful with the edges\n",
              "...         pass\n",
              "\n",
              "**Reporting:**\n",
              "\n",
              "Simple graph information is obtained using object-attributes and methods.\n",
              "Reporting typically provides views instead of containers to reduce memory\n",
              "usage. The views update as the graph is updated similarly to dict-views.\n",
              "The objects `nodes`, `edges` and `adj` provide access to data attributes\n",
              "via lookup (e.g. `nodes[n]`, `edges[u, v]`, `adj[u][v]`) and iteration\n",
              "(e.g. `nodes.items()`, `nodes.data(&#x27;color&#x27;)`,\n",
              "`nodes.data(&#x27;color&#x27;, default=&#x27;blue&#x27;)` and similarly for `edges`)\n",
              "Views exist for `nodes`, `edges`, `neighbors()`/`adj` and `degree`.\n",
              "\n",
              "For details on these and other miscellaneous methods, see below.\n",
              "\n",
              "**Subclasses (Advanced):**\n",
              "\n",
              "The Graph class uses a dict-of-dict-of-dict data structure.\n",
              "The outer dict (node_dict) holds adjacency information keyed by node.\n",
              "The next dict (adjlist_dict) represents the adjacency information and holds\n",
              "edge data keyed by neighbor.  The inner dict (edge_attr_dict) represents\n",
              "the edge data and holds edge attribute values keyed by attribute names.\n",
              "\n",
              "Each of these three dicts can be replaced in a subclass by a user defined\n",
              "dict-like object. In general, the dict-like features should be\n",
              "maintained but extra features can be added. To replace one of the\n",
              "dicts create a new graph class by changing the class(!) variable\n",
              "holding the factory for that dict-like structure.\n",
              "\n",
              "node_dict_factory : function, (default: dict)\n",
              "    Factory function to be used to create the dict containing node\n",
              "    attributes, keyed by node id.\n",
              "    It should require no arguments and return a dict-like object\n",
              "\n",
              "node_attr_dict_factory: function, (default: dict)\n",
              "    Factory function to be used to create the node attribute\n",
              "    dict which holds attribute values keyed by attribute name.\n",
              "    It should require no arguments and return a dict-like object\n",
              "\n",
              "adjlist_outer_dict_factory : function, (default: dict)\n",
              "    Factory function to be used to create the outer-most dict\n",
              "    in the data structure that holds adjacency info keyed by node.\n",
              "    It should require no arguments and return a dict-like object.\n",
              "\n",
              "adjlist_inner_dict_factory : function, (default: dict)\n",
              "    Factory function to be used to create the adjacency list\n",
              "    dict which holds edge data keyed by neighbor.\n",
              "    It should require no arguments and return a dict-like object\n",
              "\n",
              "edge_attr_dict_factory : function, (default: dict)\n",
              "    Factory function to be used to create the edge attribute\n",
              "    dict which holds attribute values keyed by attribute name.\n",
              "    It should require no arguments and return a dict-like object.\n",
              "\n",
              "graph_attr_dict_factory : function, (default: dict)\n",
              "    Factory function to be used to create the graph attribute\n",
              "    dict which holds attribute values keyed by attribute name.\n",
              "    It should require no arguments and return a dict-like object.\n",
              "\n",
              "Typically, if your extension doesn&#x27;t impact the data structure all\n",
              "methods will inherit without issue except: `to_directed/to_undirected`.\n",
              "By default these methods create a DiGraph/Graph class and you probably\n",
              "want them to create your extension of a DiGraph/Graph. To facilitate\n",
              "this we define two class variables that you can set in your subclass.\n",
              "\n",
              "to_directed_class : callable, (default: DiGraph or MultiDiGraph)\n",
              "    Class to create a new graph structure in the `to_directed` method.\n",
              "    If `None`, a NetworkX class (DiGraph or MultiDiGraph) is used.\n",
              "\n",
              "to_undirected_class : callable, (default: Graph or MultiGraph)\n",
              "    Class to create a new graph structure in the `to_undirected` method.\n",
              "    If `None`, a NetworkX class (Graph or MultiGraph) is used.\n",
              "\n",
              "**Subclassing Example**\n",
              "\n",
              "Create a low memory graph class that effectively disallows edge\n",
              "attributes by using a single attribute dict for all edges.\n",
              "This reduces the memory used, but you lose edge attributes.\n",
              "\n",
              "&gt;&gt;&gt; class ThinGraph(nx.Graph):\n",
              "...     all_edge_dict = {&quot;weight&quot;: 1}\n",
              "...\n",
              "...     def single_edge_dict(self):\n",
              "...         return self.all_edge_dict\n",
              "...\n",
              "...     edge_attr_dict_factory = single_edge_dict\n",
              "&gt;&gt;&gt; G = ThinGraph()\n",
              "&gt;&gt;&gt; G.add_edge(2, 1)\n",
              "&gt;&gt;&gt; G[2][1]\n",
              "{&#x27;weight&#x27;: 1}\n",
              "&gt;&gt;&gt; G.add_edge(2, 2)\n",
              "&gt;&gt;&gt; G[2][1] is G[2][2]\n",
              "True</pre>\n",
              "      <script>\n",
              "      if (google.colab.kernel.accessAllowed && google.colab.files && google.colab.files.view) {\n",
              "        for (const element of document.querySelectorAll('.filepath')) {\n",
              "          element.style.display = 'block'\n",
              "          element.onclick = (event) => {\n",
              "            event.preventDefault();\n",
              "            event.stopPropagation();\n",
              "            google.colab.files.view(element.textContent, 66);\n",
              "          };\n",
              "        }\n",
              "      }\n",
              "      for (const element of document.querySelectorAll('.function-repr-contents')) {\n",
              "        element.onclick = (event) => {\n",
              "          event.preventDefault();\n",
              "          event.stopPropagation();\n",
              "          element.classList.toggle('function-repr-contents-collapsed');\n",
              "        };\n",
              "      }\n",
              "      </script>\n",
              "      </div>"
            ]
          },
          "metadata": {},
          "execution_count": 2
        }
      ]
    },
    {
      "cell_type": "code",
      "metadata": {
        "id": "hDvf3nm-ors4",
        "colab": {
          "base_uri": "https://localhost:8080/",
          "height": 516
        },
        "outputId": "e81d3297-005d-4030-d272-2bb8aa7f066c"
      },
      "source": [
        "# Visualize the graph\n",
        "nx.draw(G, with_labels = True)"
      ],
      "execution_count": 3,
      "outputs": [
        {
          "output_type": "display_data",
          "data": {
            "text/plain": [
              "<Figure size 640x480 with 1 Axes>"
            ],
            "image/png": "[encoded data removed]"
          },
          "metadata": {}
        }
      ]
    },
    {
      "cell_type": "markdown",
      "metadata": {
        "id": "FX25Y1CrYmgN"
      },
      "source": [
        "## Question 1: What is the average degree of the karate club network? (5 Points)"
      ]
    },
    {
      "cell_type": "code",
      "metadata": {
        "id": "AUhES1VYo3tB",
        "colab": {
          "base_uri": "https://localhost:8080/"
        },
        "outputId": "4df56d26-ea81-4324-f10f-bdb5b33b08b2"
      },
      "source": [
        "def average_degree(num_edges, num_nodes):\n",
        "  # TODO: Implement this function that takes number of edges\n",
        "  # and number of nodes, and returns the average node degree of\n",
        "  # the graph. Round the result to nearest integer (for example\n",
        "  # 3.3 will be rounded to 3 and 3.7 will be rounded to 4)\n",
        "\n",
        "  avg_degree = 0\n",
        "\n",
        "  ############# Your code here ############\n",
        "  avg_degree = (2 * num_nodes) / num_edges\n",
        "  #########################################\n",
        "\n",
        "  return avg_degree\n",
        "\n",
        "num_edges = G.number_of_edges()\n",
        "num_nodes = G.number_of_nodes()\n",
        "avg_degree = average_degree(num_edges, num_nodes)\n",
        "print(\"Average degree of karate club network is {}\".format(avg_degree))"
      ],
      "execution_count": 4,
      "outputs": [
        {
          "output_type": "stream",
          "name": "stdout",
          "text": [
            "Average degree of karate club network is 0.8717948717948718\n"
          ]
        }
      ]
    },
    {
      "cell_type": "markdown",
      "metadata": {
        "id": "Fk02fD4vYmZI"
      },
      "source": [
        "## Question 2: What is the average clustering coefficient of the karate club network? (5 Points)"
      ]
    },
    {
      "cell_type": "code",
      "metadata": {
        "id": "k15XKEto1aYJ",
        "colab": {
          "base_uri": "https://localhost:8080/"
        },
        "outputId": "93f8b1ca-6911-429d-a4d6-384ceeebda3d"
      },
      "source": [
        "def average_clustering_coefficient(G):\n",
        "  # TODO: Implement this function that takes a nx.Graph\n",
        "  # and returns the average clustering coefficient. Round\n",
        "  # the result to 2 decimal places (for example 3.333 will\n",
        "  # be rounded to 3.33 and 3.7571 will be rounded to 3.76)\n",
        "\n",
        "  avg_cluster_coef = 0\n",
        "\n",
        "  ############# Your code here ############\n",
        "  ## Note:\n",
        "  ## 1: Please use the appropriate NetworkX clustering function\n",
        "  avg_cluster_coef = nx.average_clustering(G)\n",
        "  #########################################\n",
        "\n",
        "  return avg_cluster_coef\n",
        "\n",
        "avg_cluster_coef = average_clustering_coefficient(G)\n",
        "print(\"Average clustering coefficient of karate club network is {}\".format(avg_cluster_coef))"
      ],
      "execution_count": 7,
      "outputs": [
        {
          "output_type": "stream",
          "name": "stdout",
          "text": [
            "Average clustering coefficient of karate club network is 0.5706384782076823\n"
          ]
        }
      ]
    },
    {
      "cell_type": "markdown",
      "metadata": {
        "id": "zghQ-AhXYmP4"
      },
      "source": [
        "## Question 3: What is the PageRank value for node 0 (node with id 0) after one PageRank iteration? (5 Points)\n",
        "\n",
        "Page Rank measures importance of nodes in a graph using the link structure of the web. A “vote” from an important page is worth more. Specifically, if  a page $i$ with importance $r_i$ has $d_i$ out-links, then each link gets $\\frac{r_i}{d_i}$ votes. Thus, the importance of a Page $j$, represented as $r_j$ is the sum of the votes on its in links.\n",
        "$$r_j = \\sum_{i \\rightarrow j} \\frac{r_i}{d_i}$$, where $d_i$ is the out degree of node $i$.\n",
        "\n",
        "The PageRank algorithm (used by Google) outputs a probability distribution which represent the likelihood of a random surfer clicking on links will arrive at any particular page. At each time step, the random surfer has two options\n",
        "- With prob. $\\beta$, follow a link at random\n",
        "- With prob. $1- \\beta$, jump to a random page\n",
        "\n",
        "Thus, the importance of a particular page is calculated with the following PageRank equation:\n",
        " $$r_j = \\sum_{i \\rightarrow j} \\beta \\frac{r_i}{d_i} + (1 - \\beta) \\frac{1}{N}$$\n",
        "\n",
        "Please complete the code block by implementing the above PageRank equation for node 0.\n",
        "\n",
        "Note - You can refer to more information from the slides here - http://snap.stanford.edu/class/cs224w-2020/slides/04-pagerank.pdf\n",
        "\n",
        "\n"
      ]
    },
    {
      "cell_type": "code",
      "metadata": {
        "id": "BOGdWjNc6O7x",
        "colab": {
          "base_uri": "https://localhost:8080/"
        },
        "outputId": "80214504-40c7-4432-b8d7-f85e9a15e400"
      },
      "source": [
        "def one_iter_pagerank(G, beta, r0, node_id):\n",
        "  # TODO: Implement this function that takes a nx.Graph, beta, r0 and node id.\n",
        "  # The return value r1 is one interation PageRank value for the input node.\n",
        "  # Please round r1 to 2 decimal places.\n",
        "\n",
        "  r1 = 0\n",
        "\n",
        "  ############# Your code here ############\n",
        "  ## Note:\n",
        "  ## 1: You should not use nx.pagerank\n",
        "  N = G.number_of_nodes()\n",
        "  neighbors = list(G.neighbors(node_id))\n",
        "  r1 = (1 - beta) / N +  sum( beta * r0 / G.degree(node) for node in neighbors )\n",
        "  #########################################\n",
        "\n",
        "  return r1\n",
        "\n",
        "beta = 0.8\n",
        "r0 = 1 / G.number_of_nodes()\n",
        "node = 0\n",
        "r1 = one_iter_pagerank(G, beta, r0, node)\n",
        "print(\"The PageRank value for node 0 after one iteration is {}\".format(r1))"
      ],
      "execution_count": 8,
      "outputs": [
        {
          "output_type": "stream",
          "name": "stdout",
          "text": [
            "The PageRank value for node 0 after one iteration is 0.12810457516339868\n"
          ]
        }
      ]
    },
    {
      "cell_type": "markdown",
      "metadata": {
        "id": "icTcOULeYmIu"
      },
      "source": [
        "## Question 4: What is the (raw) closeness centrality for the karate club network node 5? (5 Points)\n",
        "\n",
        "The equation for closeness centrality is $c(v) = \\frac{1}{\\sum_{u \\neq v}\\text{shortest path length between } u \\text{ and } v}$"
      ]
    },
    {
      "cell_type": "code",
      "metadata": {
        "id": "XbCsq_tl-3ok",
        "colab": {
          "base_uri": "https://localhost:8080/"
        },
        "outputId": "2c89dc75-168b-4d3f-af1c-bbdbd0eafc2d"
      },
      "source": [
        "def closeness_centrality(G, node=5):\n",
        "  # TODO: Implement the function that calculates closeness centrality\n",
        "  # for a node in karate club network. G is the input karate club\n",
        "  # network and node is the node id in the graph. Please round the\n",
        "  # closeness centrality result to 2 decimal places.\n",
        "\n",
        "  closeness = 0\n",
        "\n",
        "  ## Note:\n",
        "  ## 1: You can use networkx closeness centrality function.\n",
        "  ## 2: Notice that networkx closeness centrality returns the normalized\n",
        "  ## closeness directly, which is different from the raw (unnormalized)\n",
        "  ## one that we learned in the lecture.标准化计算结果除以(N - 1)\n",
        "  closeness = nx.closeness_centrality(G, u=node) / ( len(G) - 1 )\n",
        "  #########################################\n",
        "\n",
        "  return closeness\n",
        "\n",
        "node = 5\n",
        "closeness = closeness_centrality(G, node=node)\n",
        "print(\"The node 5 has closeness centrality {}\".format(closeness))"
      ],
      "execution_count": 11,
      "outputs": [
        {
          "output_type": "stream",
          "name": "stdout",
          "text": [
            "The node 5 has closeness centrality 0.011627906976744186\n"
          ]
        }
      ]
    },
    {
      "cell_type": "markdown",
      "metadata": {
        "id": "-MxvowibYl4x"
      },
      "source": [
        "# 2 Graph to Tensor\n",
        "We will then work together to transform the graph $G$ into a PyTorch tensor, so that we can perform machine learning over the graph."
      ]
    },
    {
      "cell_type": "markdown",
      "metadata": {
        "id": "eDA8PosrA-9V"
      },
      "source": [
        "## Setup\n",
        "Check if PyTorch is properly installed"
      ]
    },
    {
      "cell_type": "code",
      "metadata": {
        "id": "ntuPVat_BAf1",
        "colab": {
          "base_uri": "https://localhost:8080/"
        },
        "outputId": "40ec8c19-8661-4134-d197-d30424eba0c1"
      },
      "source": [
        "import torch\n",
        "print(torch.__version__)"
      ],
      "execution_count": 12,
      "outputs": [
        {
          "output_type": "stream",
          "name": "stdout",
          "text": [
            "2.1.0+cu121\n"
          ]
        }
      ]
    },
    {
      "cell_type": "markdown",
      "metadata": {
        "id": "fko_2wSKYlun"
      },
      "source": [
        "## PyTorch tensor basics\n",
        "\n",
        "We can generate PyTorch tensor with all zeros, ones or random values."
      ]
    },
    {
      "cell_type": "code",
      "metadata": {
        "id": "W2ySw3m-A9qF",
        "colab": {
          "base_uri": "https://localhost:8080/"
        },
        "outputId": "e043d878-f73f-4cdc-94d7-72bd1d6a6840"
      },
      "source": [
        "# Generate 3 x 4 tensor with all ones\n",
        "ones = torch.ones(3, 4)\n",
        "print(ones)\n",
        "\n",
        "# Generate 3 x 4 tensor with all zeros\n",
        "zeros = torch.zeros(3, 4)\n",
        "print(zeros)\n",
        "\n",
        "# Generate 3 x 4 tensor with random values on the interval [0, 1)\n",
        "random_tensor = torch.rand(3, 4)\n",
        "print(random_tensor)\n",
        "\n",
        "# Get the shape of the tensor\n",
        "print(ones.shape)"
      ],
      "execution_count": 13,
      "outputs": [
        {
          "output_type": "stream",
          "name": "stdout",
          "text": [
            "tensor([[1., 1., 1., 1.],\n",
            "        [1., 1., 1., 1.],\n",
            "        [1., 1., 1., 1.]])\n",
            "tensor([[0., 0., 0., 0.],\n",
            "        [0., 0., 0., 0.],\n",
            "        [0., 0., 0., 0.]])\n",
            "tensor([[0.3160, 0.6545, 0.7563, 0.7148],\n",
            "        [0.8309, 0.0108, 0.4627, 0.7006],\n",
            "        [0.4607, 0.8742, 0.6401, 0.8126]])\n",
            "torch.Size([3, 4])\n"
          ]
        }
      ]
    },
    {
      "cell_type": "markdown",
      "metadata": {
        "id": "x8mp66eHBxWC"
      },
      "source": [
        "PyTorch tensor contains elements for a single data type, the `dtype`."
      ]
    },
    {
      "cell_type": "code",
      "metadata": {
        "id": "rQiOvKJJBwq4",
        "colab": {
          "base_uri": "https://localhost:8080/"
        },
        "outputId": "ca97b161-0d18-4ea3-d63d-ef8d29a7f803"
      },
      "source": [
        "# Create a 3 x 4 tensor with all 32-bit floating point zeros\n",
        "zeros = torch.zeros(3, 4, dtype=torch.float32)\n",
        "print(zeros)\n",
        "print(zeros.dtype)\n",
        "\n",
        "# Change the tensor dtype to 64-bit integer\n",
        "zeros = zeros.type(torch.long)\n",
        "print(zeros.dtype)"
      ],
      "execution_count": 15,
      "outputs": [
        {
          "output_type": "stream",
          "name": "stdout",
          "text": [
            "tensor([[0., 0., 0., 0.],\n",
            "        [0., 0., 0., 0.],\n",
            "        [0., 0., 0., 0.]])\n",
            "torch.float32\n",
            "torch.int64\n"
          ]
        }
      ]
    },
    {
      "cell_type": "markdown",
      "metadata": {
        "id": "I9EfegIRDkk2"
      },
      "source": [
        "## Question 5: Get the edge list of the karate club network and transform it into `torch.LongTensor`. What is the `torch.sum` value of `pos_edge_index` tensor? (10 Points)"
      ]
    },
    {
      "cell_type": "code",
      "metadata": {
        "id": "kEtVxMFID3ZT",
        "colab": {
          "base_uri": "https://localhost:8080/"
        },
        "outputId": "a00f226f-ab1b-48bc-dbcb-b9187e51c038"
      },
      "source": [
        "def graph_to_edge_list(G):\n",
        "  # TODO: Implement the function that returns the edge list of\n",
        "  # an nx.Graph. The returned edge_list should be a list of tuples\n",
        "  # where each tuple is a tuple representing an edge connected\n",
        "  # by two nodes.\n",
        "\n",
        "  edge_list = []\n",
        "\n",
        "  ############# Your code here ############\n",
        "  edge_list = list(G.edges())\n",
        "  #########################################\n",
        "\n",
        "  return edge_list\n",
        "\n",
        "def edge_list_to_tensor(edge_list):\n",
        "  # TODO: Implement the function that transforms the edge_list to\n",
        "  # tensor. The input edge_list is a list of tuples and the resulting\n",
        "  # tensor should have the shape [2, len(edge_list)].\n",
        "\n",
        "  ############# Your code here ############\n",
        "\n",
        "  edge_index = torch.tensor([])\n",
        "  edges = torch.tensor(edge_list, dtype=torch.long).t().contiguous()\n",
        "\n",
        "  edge_index = edges\n",
        "  #########################################\n",
        "  print(edge_index.shape)\n",
        "  return edge_index\n",
        "\n",
        "pos_edge_list = graph_to_edge_list(G)\n",
        "rows = len(pos_edge_list)\n",
        "cols = len(pos_edge_list[0])\n",
        "print(\"rows \", rows , \" cols  \", cols)\n",
        "pos_edge_index = edge_list_to_tensor(pos_edge_list)\n",
        "print(\"The pos_edge_index tensor has shape {}\".format(pos_edge_index.shape))\n",
        "print(\"The pos_edge_index tensor has sum value {}\".format(torch.sum(pos_edge_index)))"
      ],
      "execution_count": 43,
      "outputs": [
        {
          "output_type": "stream",
          "name": "stdout",
          "text": [
            "rows  78  cols   2\n",
            "torch.Size([2, 78])\n",
            "The pos_edge_index tensor has shape torch.Size([2, 78])\n",
            "The pos_edge_index tensor has sum value 2535\n"
          ]
        }
      ]
    },
    {
      "cell_type": "markdown",
      "metadata": {
        "id": "UBL-ZmdHWqIu"
      },
      "source": [
        "## Question 6: Please implement following function that samples negative edges. Then answer which edges (edge_1 to edge_5) are the negative edges in the karate club network? (10 Points)\n",
        "\n",
        "\"Negative\" edges refer to the edges/links that do not exist in the graph. The term \"negative\" is borrowed from \"negative sampling\" in link prediction. It has nothing to do with the edge weights.\n",
        "\n",
        "For example, given an edge (src, dst), you should check that neither (src, dst) nor (dst, src) are edges in the Graph. If these hold true, then it is a negative edge."
      ]
    },
    {
      "cell_type": "code",
      "metadata": {
        "id": "9N8VT1f8-IJ8",
        "colab": {
          "base_uri": "https://localhost:8080/"
        },
        "outputId": "b03fe5a8-b6f1-46d5-ffa1-bf69b5f01565"
      },
      "source": [
        "import random\n",
        "\n",
        "def sample_negative_edges(G, num_neg_samples):\n",
        "  # TODO: Implement the function that returns a list of negative edges.\n",
        "  # The number of sampled negative edges is num_neg_samples. You do not\n",
        "  # need to consider the corner case when the number of possible negative edges\n",
        "  # is less than num_neg_samples. It should be ok as long as your implementation\n",
        "  # works on the karate club network. In this implementation, self loops should\n",
        "  # not be considered as either a positive or negative edge. Also, notice that\n",
        "  # the karate club network is an undirected graph, if (0, 1) is a positive\n",
        "  # edge, do you think (1, 0) can be a negative one?\n",
        "\n",
        "  neg_edge_list = []\n",
        "\n",
        "  ############# Your code here ############\n",
        "  nodes = list(G.nodes())\n",
        "  while len(neg_edge_list ) < num_neg_samples :\n",
        "    u, v = random.sample(nodes , 2)\n",
        "    if u != v and not G.has_edge(u, v) and not G.has_edge( v , u):\n",
        "      neg_edge_list.append((u, v))\n",
        "  #########################################\n",
        "\n",
        "  return neg_edge_list\n",
        "\n",
        "# Sample 78 negative edges\n",
        "neg_edge_list = sample_negative_edges(G, len(pos_edge_list))\n",
        "\n",
        "# Transform the negative edge list to tensor\n",
        "neg_edge_index = edge_list_to_tensor(neg_edge_list)\n",
        "print(\"The neg_edge_index tensor has shape {}\".format(neg_edge_index.shape))\n",
        "\n",
        "# Which of following edges can be negative ones?\n",
        "edge_1 = (7, 1)\n",
        "edge_2 = (1, 33)\n",
        "edge_3 = (33, 22)\n",
        "edge_4 = (0, 4)\n",
        "edge_5 = (4, 2)\n",
        "\n",
        "############# Your code here ############\n",
        "## Note:\n",
        "## 1: For each of the 5 edges, print whether it can be negative edge\n",
        "edges_tocheck = [edge_1,edge_2,edge_3,edge_4,edge_5]\n",
        "for edge in edges_tocheck:\n",
        "  if not G.has_edge(*edge ) and not G.has_edge(edge[1],edge[0] ):\n",
        "    print(f\"Edge {edge} can be a negative edge.\")\n",
        "  else :\n",
        "    print(f\"Edge {edge} cannot be a negative edge. \")\n",
        "\n",
        "#########################################"
      ],
      "execution_count": 45,
      "outputs": [
        {
          "output_type": "stream",
          "name": "stdout",
          "text": [
            "torch.Size([2, 78])\n",
            "The neg_edge_index tensor has shape torch.Size([2, 78])\n",
            "Edge (7, 1) cannot be a negative edge. \n",
            "Edge (1, 33) can be a negative edge.\n",
            "Edge (33, 22) cannot be a negative edge. \n",
            "Edge (0, 4) cannot be a negative edge. \n",
            "Edge (4, 2) can be a negative edge.\n"
          ]
        }
      ]
    },
    {
      "cell_type": "markdown",
      "metadata": {
        "id": "Wk9Q-a-9qGsw"
      },
      "source": [
        "# 3 Node Emebedding Learning\n",
        "\n",
        "Finally, we will finish the first learning algorithm on graphs: a node embedding model.\n"
      ]
    },
    {
      "cell_type": "markdown",
      "metadata": {
        "id": "NDBxRQcZ_dUH"
      },
      "source": [
        "## Setup"
      ]
    },
    {
      "cell_type": "code",
      "metadata": {
        "id": "Lnqn9H6s_ehX",
        "colab": {
          "base_uri": "https://localhost:8080/"
        },
        "outputId": "979f9ad8-e429-4657-bb1a-d06e13c0fa14"
      },
      "source": [
        "import torch\n",
        "import torch.nn as nn\n",
        "import matplotlib.pyplot as plt\n",
        "from sklearn.decomposition import PCA\n",
        "\n",
        "print(torch.__version__)"
      ],
      "execution_count": 21,
      "outputs": [
        {
          "output_type": "stream",
          "name": "stdout",
          "text": [
            "2.1.0+cu121\n"
          ]
        }
      ]
    },
    {
      "cell_type": "markdown",
      "metadata": {
        "id": "6gomAf8vxq0R"
      },
      "source": [
        "To write our own node embedding learning methods, we'll heavily use the [`nn.Embedding`](https://pytorch.org/docs/stable/generated/torch.nn.Embedding.html) module in PyTorch. Let's see how to use `nn.Embedding`:"
      ]
    },
    {
      "cell_type": "code",
      "metadata": {
        "id": "aRiWGuLAx5yx",
        "colab": {
          "base_uri": "https://localhost:8080/"
        },
        "outputId": "872ee57e-3d88-4c3b-f144-699970217fee"
      },
      "source": [
        "# Initialize an embedding layer\n",
        "# Suppose we want to have embedding for 4 items (e.g., nodes)\n",
        "# Each item is represented with 8 dimensional vector\n",
        "\n",
        "emb_sample = nn.Embedding(num_embeddings=4, embedding_dim=8)\n",
        "print('Sample embedding layer: {}'.format(emb_sample))"
      ],
      "execution_count": 22,
      "outputs": [
        {
          "output_type": "stream",
          "name": "stdout",
          "text": [
            "Sample embedding layer: Embedding(4, 8)\n"
          ]
        }
      ]
    },
    {
      "cell_type": "markdown",
      "metadata": {
        "id": "bS9qQfeujEVh"
      },
      "source": [
        "We can select items from the embedding matrix, by using Tensor indices"
      ]
    },
    {
      "cell_type": "code",
      "metadata": {
        "id": "9AGIfP4QEDr8",
        "colab": {
          "base_uri": "https://localhost:8080/"
        },
        "outputId": "1841d2a9-86d3-464b-a885-3ebc2d1a8e76"
      },
      "source": [
        "# Select an embedding in emb_sample\n",
        "id = torch.LongTensor([1])\n",
        "print(\"id\" , id)\n",
        "print(emb_sample(id))\n",
        "\n",
        "# Select multiple embeddings\n",
        "ids = torch.LongTensor([0,1, 2, 3])\n",
        "print(\"ids\" , ids)\n",
        "print(\"===============\")\n",
        "print(emb_sample(ids))\n",
        "print(\"===============\")\n",
        "# Get the shape of the embedding weight matrix\n",
        "shape = emb_sample.weight.data.shape\n",
        "print(shape)\n",
        "\n",
        "# Overwrite the weight to tensor with all ones\n",
        "emb_sample.weight.data = torch.ones(shape)\n",
        "print(emb_sample.weight.data)\n",
        "# Let's check if the emb is indeed initilized\n",
        "ids = torch.LongTensor([0, 3])\n",
        "print(emb_sample(ids))"
      ],
      "execution_count": 30,
      "outputs": [
        {
          "output_type": "stream",
          "name": "stdout",
          "text": [
            "id tensor([1])\n",
            "tensor([[1., 1., 1., 1., 1., 1., 1., 1.]], grad_fn=<EmbeddingBackward0>)\n",
            "ids tensor([0, 1, 2, 3])\n",
            "===============\n",
            "tensor([[1., 1., 1., 1., 1., 1., 1., 1.],\n",
            "        [1., 1., 1., 1., 1., 1., 1., 1.],\n",
            "        [1., 1., 1., 1., 1., 1., 1., 1.],\n",
            "        [1., 1., 1., 1., 1., 1., 1., 1.]], grad_fn=<EmbeddingBackward0>)\n",
            "===============\n",
            "torch.Size([4, 8])\n",
            "===============\n",
            "tensor([[1., 1., 1., 1., 1., 1., 1., 1.],\n",
            "        [1., 1., 1., 1., 1., 1., 1., 1.],\n",
            "        [1., 1., 1., 1., 1., 1., 1., 1.],\n",
            "        [1., 1., 1., 1., 1., 1., 1., 1.]])\n",
            "===============\n",
            "tensor([[1., 1., 1., 1., 1., 1., 1., 1.],\n",
            "        [1., 1., 1., 1., 1., 1., 1., 1.],\n",
            "        [1., 1., 1., 1., 1., 1., 1., 1.],\n",
            "        [1., 1., 1., 1., 1., 1., 1., 1.]])\n",
            "tensor([[1., 1., 1., 1., 1., 1., 1., 1.],\n",
            "        [1., 1., 1., 1., 1., 1., 1., 1.]], grad_fn=<EmbeddingBackward0>)\n"
          ]
        }
      ]
    },
    {
      "cell_type": "markdown",
      "metadata": {
        "id": "8MjBuDKaKIsM"
      },
      "source": [
        "Now, it's your time to create node embedding matrix for the graph we have!\n",
        "- We want to have **16 dimensional** vector for each node in the karate club network.\n",
        "- We want to initalize the matrix under **uniform distribution**, in the range of $[0, 1)$. We suggest you using [`torch.rand`](https://pytorch.org/docs/stable/generated/torch.rand.html)."
      ]
    },
    {
      "cell_type": "code",
      "metadata": {
        "id": "hMszSwRPKGn1",
        "colab": {
          "base_uri": "https://localhost:8080/"
        },
        "outputId": "e3001815-16fc-456c-a2ee-df7f83510b18"
      },
      "source": [
        "# Please do not change / reset the random seed\n",
        "torch.manual_seed(1)\n",
        "\n",
        "def create_node_emb(num_node=34, embedding_dim=16):\n",
        "  # TODO: Implement this function that will create the node embedding matrix.\n",
        "  # A torch.nn.Embedding layer will be returned. You do not need to change\n",
        "  # the values of num_node and embedding_dim. The weight matrix of returned\n",
        "  # layer should be initialized under uniform distribution.\n",
        "\n",
        "  emb = None\n",
        "\n",
        "  ############# Your code here ############\n",
        "  emb  = nn.Embedding(num_embeddings=num_node, embedding_dim=embedding_dim)\n",
        "  emb.weight.data.uniform_(-1,1)\n",
        "  #########################################\n",
        "\n",
        "  return emb\n",
        "\n",
        "emb = create_node_emb()\n",
        "ids = torch.LongTensor([0, 3])\n",
        "\n",
        "# Print the embedding layer\n",
        "print(\"Embedding: {}\".format(emb))\n",
        "\n",
        "# An example that gets the embeddings for node 0 and 3\n",
        "print(emb(ids))"
      ],
      "execution_count": 32,
      "outputs": [
        {
          "output_type": "stream",
          "name": "stdout",
          "text": [
            "Embedding: Embedding(34, 16)\n",
            "tensor([[-0.5773,  0.4670, -0.7134,  0.9294, -0.4133,  0.5903,  0.0341, -0.4398,\n",
            "          0.6678, -0.7630, -0.5291,  0.1199,  0.7933, -0.4285, -0.6089, -0.6384],\n",
            "        [ 0.4972,  0.3093, -0.2314,  0.9640,  0.2024, -0.2580, -0.0142,  0.9830,\n",
            "          0.6717, -0.0741,  0.9804,  0.4391, -0.5324, -0.9101,  0.5811,  0.9378]],\n",
            "       grad_fn=<EmbeddingBackward0>)\n"
          ]
        }
      ]
    },
    {
      "cell_type": "markdown",
      "metadata": {
        "id": "4QfoANibTzyh"
      },
      "source": [
        "## Visualize the initial node embeddings\n",
        "One good way to understand an embedding matrix, is to visualize it in a 2D space.\n",
        "Here, we have implemented an embedding visualization function for you.\n",
        "We first do PCA to reduce the dimensionality of embeddings to a 2D space.\n",
        "Then we visualize each point, colored by the community it belongs to."
      ]
    },
    {
      "cell_type": "code",
      "metadata": {
        "id": "_LCoIkarhfYD",
        "colab": {
          "base_uri": "https://localhost:8080/",
          "height": 522
        },
        "outputId": "ffd671cf-3640-40be-ded3-67a87aca5b58"
      },
      "source": [
        "def visualize_emb(emb):\n",
        "  X = emb.weight.data.numpy()\n",
        "  pca = PCA(n_components=2)\n",
        "  components = pca.fit_transform(X)\n",
        "  plt.figure(figsize=(6, 6))\n",
        "  club1_x = []\n",
        "  club1_y = []\n",
        "  club2_x = []\n",
        "  club2_y = []\n",
        "  for node in G.nodes(data=True):\n",
        "    if node[1]['club'] == 'Mr. Hi':\n",
        "      club1_x.append(components[node[0]][0])\n",
        "      club1_y.append(components[node[0]][1])\n",
        "    else:\n",
        "      club2_x.append(components[node[0]][0])\n",
        "      club2_y.append(components[node[0]][1])\n",
        "  plt.scatter(club1_x, club1_y, color=\"red\", label=\"Mr. Hi\")\n",
        "  plt.scatter(club2_x, club2_y, color=\"blue\", label=\"Officer\")\n",
        "  plt.legend()\n",
        "  plt.show()\n",
        "\n",
        "# Visualize the initial random embeddding\n",
        "visualize_emb(emb)"
      ],
      "execution_count": 33,
      "outputs": [
        {
          "output_type": "display_data",
          "data": {
            "text/plain": [
              "<Figure size 600x600 with 1 Axes>"
            ],
            "image/png": "[encoded data removed]"
          },
          "metadata": {}
        }
      ]
    },
    {
      "cell_type": "markdown",
      "metadata": {
        "id": "bQIyuEz9ANb2"
      },
      "source": [
        "## Question 7: Training the embedding! What is the best performance you can get? Please report both the best loss and accuracy on Gradescope. (20 Points)\n",
        "\n",
        "We want to optimize our embeddings for the task of classifying edges as positive or negative. Given an edge and the embeddings for each node, the dot product of the embeddings, followed by a sigmoid, should give us the likelihood of that edge being either positive (output of sigmoid > 0.5) or negative (output of sigmoid < 0.5).\n",
        "\n",
        "Note that we're using the functions you wrote in the previous questions, _as well as the variables initialized in previous cells_. If you're running into issues, make sure your answers to questions 1-6 are correct."
      ]
    },
    {
      "cell_type": "code",
      "metadata": {
        "id": "RDeQTNNxqH0j",
        "colab": {
          "base_uri": "https://localhost:8080/"
        },
        "outputId": "99f8adf3-a28c-4e7a-f13a-d9611a5a4d7d"
      },
      "source": [
        "from torch.optim import SGD\n",
        "import torch.nn as nn\n",
        "\n",
        "def accuracy(pred, label):\n",
        "  # TODO: Implement the accuracy function. This function takes the\n",
        "  # pred tensor (the resulting tensor after sigmoid) and the label\n",
        "  # tensor (torch.LongTensor). Predicted value greater than 0.5 will\n",
        "  # be classified as label 1. Else it will be classified as label 0.\n",
        "  # The returned accuracy should be rounded to 4 decimal places.\n",
        "  # For example, accuracy 0.82956 will be rounded to 0.8296.\n",
        "\n",
        "  accu = 0.0\n",
        "\n",
        "  ############# Your code here ############\n",
        "  total = label.size(0)\n",
        "  #四舍五入\n",
        "  pred_class = (pred > 0.5).float()\n",
        "  correct = (pred_class == label).sum().item()\n",
        "\n",
        "  accu = round( correct / total, 4)\n",
        "  #########################################\n",
        "\n",
        "  return accu\n",
        "\n",
        "def train(emb, loss_fn, sigmoid, train_label, train_edge):\n",
        "  # TODO: Train the embedding layer here. You can also change epochs and\n",
        "  # learning rate. In general, you need to implement:\n",
        "  # (1) Get the embeddings of the nodes in train_edge\n",
        "  # (2) Dot product the embeddings between each node pair\n",
        "  # (3) Feed the dot product result into sigmoid\n",
        "  # (4) Feed the sigmoid output into the loss_fn\n",
        "  # (5) Print both loss and accuracy of each epoch\n",
        "  # (6) Update the embeddings using the loss and optimizer\n",
        "  # (as a sanity check, the loss should decrease during training)\n",
        "\n",
        "  epochs = 500\n",
        "  learning_rate = 0.1\n",
        "\n",
        "  optimizer = SGD(emb.parameters(), lr=learning_rate, momentum=0.9)\n",
        "\n",
        "  for i in range(epochs):\n",
        "\n",
        "    ############# Your code here ############\n",
        "    optimizer.zero_grad()  # 清除旧的梯度\n",
        "    node_emb = emb(train_edge)\n",
        "    # print(\"node_emb\",node_emb)\n",
        "    # print(\"node_emb.shape , \",node_emb.shape)\n",
        "    # (2) Dot product the embeddings between each node pair\n",
        "    start_node_emb = node_emb[0]  # 获取起始节点的嵌入向量\n",
        "    end_node_emb = node_emb[1]    # 获取目标节点的嵌入向量\n",
        "    dot_product = torch.sum(start_node_emb * end_node_emb, dim=-1)  # 计算点积\n",
        "\n",
        "    # (3) Feed the dot product result into sigmoid\n",
        "    pred = sigmoid(dot_product)\n",
        "    # print(\"pred shape\",pred.shape)\n",
        "    # (4) Feed the sigmoid output into the loss_fn\n",
        "    loss = loss_fn(pred,train_label)\n",
        "    # (5) Print both loss and accuracy of each epoch\n",
        "    acc = accuracy(pred, train_label)\n",
        "    print(\"loss : \" , loss , \" accuracy : \" , acc )\n",
        "    # (6) Update the embeddings using the loss and optimizer\n",
        "    loss.backward()\n",
        "    optimizer.step()\n",
        "    #########################################\n",
        "\n",
        "loss_fn = nn.BCELoss()\n",
        "sigmoid = nn.Sigmoid()\n",
        "\n",
        "# print(pos_edge_index.shape)\n",
        "\n",
        "# Generate the positive and negative labels\n",
        "pos_label = torch.ones(pos_edge_index.shape[1], )\n",
        "neg_label = torch.zeros(neg_edge_index.shape[1], )\n",
        "# print(\"pos_label len \" ,len(pos_label))\n",
        "# print(\"neg_label len \", len(neg_label))\n",
        "# Concat positive and negative labels into one tensor\n",
        "train_label = torch.cat([pos_label, neg_label], dim=0)\n",
        "\n",
        "# Concat positive and negative edges into one tensor\n",
        "# Since the network is very small, we do not split the edges into val/test sets\n",
        "train_edge = torch.cat([pos_edge_index, neg_edge_index], dim=1)\n",
        "# print(train_edge.shape)\n",
        "\n",
        "train(emb, loss_fn, sigmoid, train_label, train_edge)"
      ],
      "execution_count": 64,
      "outputs": [
        {
          "output_type": "stream",
          "name": "stdout",
          "text": [
            "loss :  tensor(0.0018, grad_fn=<BinaryCrossEntropyBackward0>)  accuracy :  1.0\n",
            "loss :  tensor(0.0018, grad_fn=<BinaryCrossEntropyBackward0>)  accuracy :  1.0\n",
            "loss :  tensor(0.0018, grad_fn=<BinaryCrossEntropyBackward0>)  accuracy :  1.0\n",
            "loss :  tensor(0.0018, grad_fn=<BinaryCrossEntropyBackward0>)  accuracy :  1.0\n",
            "loss :  tensor(0.0018, grad_fn=<BinaryCrossEntropyBackward0>)  accuracy :  1.0\n",
            "loss :  tensor(0.0018, grad_fn=<BinaryCrossEntropyBackward0>)  accuracy :  1.0\n",
            "loss :  tensor(0.0018, grad_fn=<BinaryCrossEntropyBackward0>)  accuracy :  1.0\n",
            "loss :  tensor(0.0018, grad_fn=<BinaryCrossEntropyBackward0>)  accuracy :  1.0\n",
            "loss :  tensor(0.0018, grad_fn=<BinaryCrossEntropyBackward0>)  accuracy :  1.0\n",
            "loss :  tensor(0.0018, grad_fn=<BinaryCrossEntropyBackward0>)  accuracy :  1.0\n",
            "loss :  tensor(0.0018, grad_fn=<BinaryCrossEntropyBackward0>)  accuracy :  1.0\n",
            "loss :  tensor(0.0018, grad_fn=<BinaryCrossEntropyBackward0>)  accuracy :  1.0\n",
            "loss :  tensor(0.0018, grad_fn=<BinaryCrossEntropyBackward0>)  accuracy :  1.0\n",
            "loss :  tensor(0.0018, grad_fn=<BinaryCrossEntropyBackward0>)  accuracy :  1.0\n",
            "loss :  tensor(0.0018, grad_fn=<BinaryCrossEntropyBackward0>)  accuracy :  1.0\n",
            "loss :  tensor(0.0018, grad_fn=<BinaryCrossEntropyBackward0>)  accuracy :  1.0\n",
            "loss :  tensor(0.0018, grad_fn=<BinaryCrossEntropyBackward0>)  accuracy :  1.0\n",
            "loss :  tensor(0.0018, grad_fn=<BinaryCrossEntropyBackward0>)  accuracy :  1.0\n",
            "loss :  tensor(0.0018, grad_fn=<BinaryCrossEntropyBackward0>)  accuracy :  1.0\n",
            "loss :  tensor(0.0018, grad_fn=<BinaryCrossEntropyBackward0>)  accuracy :  1.0\n",
            "loss :  tensor(0.0018, grad_fn=<BinaryCrossEntropyBackward0>)  accuracy :  1.0\n",
            "loss :  tensor(0.0018, grad_fn=<BinaryCrossEntropyBackward0>)  accuracy :  1.0\n",
            "loss :  tensor(0.0018, grad_fn=<BinaryCrossEntropyBackward0>)  accuracy :  1.0\n",
            "loss :  tensor(0.0018, grad_fn=<BinaryCrossEntropyBackward0>)  accuracy :  1.0\n",
            "loss :  tensor(0.0018, grad_fn=<BinaryCrossEntropyBackward0>)  accuracy :  1.0\n",
            "loss :  tensor(0.0018, grad_fn=<BinaryCrossEntropyBackward0>)  accuracy :  1.0\n",
            "loss :  tensor(0.0018, grad_fn=<BinaryCrossEntropyBackward0>)  accuracy :  1.0\n",
            "loss :  tensor(0.0018, grad_fn=<BinaryCrossEntropyBackward0>)  accuracy :  1.0\n",
            "loss :  tensor(0.0018, grad_fn=<BinaryCrossEntropyBackward0>)  accuracy :  1.0\n",
            "loss :  tensor(0.0018, grad_fn=<BinaryCrossEntropyBackward0>)  accuracy :  1.0\n",
            "loss :  tensor(0.0018, grad_fn=<BinaryCrossEntropyBackward0>)  accuracy :  1.0\n",
            "loss :  tensor(0.0018, grad_fn=<BinaryCrossEntropyBackward0>)  accuracy :  1.0\n",
            "loss :  tensor(0.0018, grad_fn=<BinaryCrossEntropyBackward0>)  accuracy :  1.0\n",
            "loss :  tensor(0.0018, grad_fn=<BinaryCrossEntropyBackward0>)  accuracy :  1.0\n",
            "loss :  tensor(0.0018, grad_fn=<BinaryCrossEntropyBackward0>)  accuracy :  1.0\n",
            "loss :  tensor(0.0018, grad_fn=<BinaryCrossEntropyBackward0>)  accuracy :  1.0\n",
            "loss :  tensor(0.0018, grad_fn=<BinaryCrossEntropyBackward0>)  accuracy :  1.0\n",
            "loss :  tensor(0.0018, grad_fn=<BinaryCrossEntropyBackward0>)  accuracy :  1.0\n",
            "loss :  tensor(0.0017, grad_fn=<BinaryCrossEntropyBackward0>)  accuracy :  1.0\n",
            "loss :  tensor(0.0017, grad_fn=<BinaryCrossEntropyBackward0>)  accuracy :  1.0\n",
            "loss :  tensor(0.0017, grad_fn=<BinaryCrossEntropyBackward0>)  accuracy :  1.0\n",
            "loss :  tensor(0.0017, grad_fn=<BinaryCrossEntropyBackward0>)  accuracy :  1.0\n",
            "loss :  tensor(0.0017, grad_fn=<BinaryCrossEntropyBackward0>)  accuracy :  1.0\n",
            "loss :  tensor(0.0017, grad_fn=<BinaryCrossEntropyBackward0>)  accuracy :  1.0\n",
            "loss :  tensor(0.0017, grad_fn=<BinaryCrossEntropyBackward0>)  accuracy :  1.0\n",
            "loss :  tensor(0.0017, grad_fn=<BinaryCrossEntropyBackward0>)  accuracy :  1.0\n",
            "loss :  tensor(0.0017, grad_fn=<BinaryCrossEntropyBackward0>)  accuracy :  1.0\n",
            "loss :  tensor(0.0017, grad_fn=<BinaryCrossEntropyBackward0>)  accuracy :  1.0\n",
            "loss :  tensor(0.0017, grad_fn=<BinaryCrossEntropyBackward0>)  accuracy :  1.0\n",
            "loss :  tensor(0.0017, grad_fn=<BinaryCrossEntropyBackward0>)  accuracy :  1.0\n",
            "loss :  tensor(0.0017, grad_fn=<BinaryCrossEntropyBackward0>)  accuracy :  1.0\n",
            "loss :  tensor(0.0017, grad_fn=<BinaryCrossEntropyBackward0>)  accuracy :  1.0\n",
            "loss :  tensor(0.0017, grad_fn=<BinaryCrossEntropyBackward0>)  accuracy :  1.0\n",
            "loss :  tensor(0.0017, grad_fn=<BinaryCrossEntropyBackward0>)  accuracy :  1.0\n",
            "loss :  tensor(0.0017, grad_fn=<BinaryCrossEntropyBackward0>)  accuracy :  1.0\n",
            "loss :  tensor(0.0017, grad_fn=<BinaryCrossEntropyBackward0>)  accuracy :  1.0\n",
            "loss :  tensor(0.0017, grad_fn=<BinaryCrossEntropyBackward0>)  accuracy :  1.0\n",
            "loss :  tensor(0.0017, grad_fn=<BinaryCrossEntropyBackward0>)  accuracy :  1.0\n",
            "loss :  tensor(0.0017, grad_fn=<BinaryCrossEntropyBackward0>)  accuracy :  1.0\n",
            "loss :  tensor(0.0017, grad_fn=<BinaryCrossEntropyBackward0>)  accuracy :  1.0\n",
            "loss :  tensor(0.0017, grad_fn=<BinaryCrossEntropyBackward0>)  accuracy :  1.0\n",
            "loss :  tensor(0.0017, grad_fn=<BinaryCrossEntropyBackward0>)  accuracy :  1.0\n",
            "loss :  tensor(0.0017, grad_fn=<BinaryCrossEntropyBackward0>)  accuracy :  1.0\n",
            "loss :  tensor(0.0017, grad_fn=<BinaryCrossEntropyBackward0>)  accuracy :  1.0\n",
            "loss :  tensor(0.0017, grad_fn=<BinaryCrossEntropyBackward0>)  accuracy :  1.0\n",
            "loss :  tensor(0.0017, grad_fn=<BinaryCrossEntropyBackward0>)  accuracy :  1.0\n",
            "loss :  tensor(0.0017, grad_fn=<BinaryCrossEntropyBackward0>)  accuracy :  1.0\n",
            "loss :  tensor(0.0017, grad_fn=<BinaryCrossEntropyBackward0>)  accuracy :  1.0\n",
            "loss :  tensor(0.0017, grad_fn=<BinaryCrossEntropyBackward0>)  accuracy :  1.0\n",
            "loss :  tensor(0.0017, grad_fn=<BinaryCrossEntropyBackward0>)  accuracy :  1.0\n",
            "loss :  tensor(0.0017, grad_fn=<BinaryCrossEntropyBackward0>)  accuracy :  1.0\n",
            "loss :  tensor(0.0017, grad_fn=<BinaryCrossEntropyBackward0>)  accuracy :  1.0\n",
            "loss :  tensor(0.0017, grad_fn=<BinaryCrossEntropyBackward0>)  accuracy :  1.0\n",
            "loss :  tensor(0.0017, grad_fn=<BinaryCrossEntropyBackward0>)  accuracy :  1.0\n",
            "loss :  tensor(0.0017, grad_fn=<BinaryCrossEntropyBackward0>)  accuracy :  1.0\n",
            "loss :  tensor(0.0017, grad_fn=<BinaryCrossEntropyBackward0>)  accuracy :  1.0\n",
            "loss :  tensor(0.0017, grad_fn=<BinaryCrossEntropyBackward0>)  accuracy :  1.0\n",
            "loss :  tensor(0.0017, grad_fn=<BinaryCrossEntropyBackward0>)  accuracy :  1.0\n",
            "loss :  tensor(0.0017, grad_fn=<BinaryCrossEntropyBackward0>)  accuracy :  1.0\n",
            "loss :  tensor(0.0017, grad_fn=<BinaryCrossEntropyBackward0>)  accuracy :  1.0\n",
            "loss :  tensor(0.0017, grad_fn=<BinaryCrossEntropyBackward0>)  accuracy :  1.0\n",
            "loss :  tensor(0.0017, grad_fn=<BinaryCrossEntropyBackward0>)  accuracy :  1.0\n",
            "loss :  tensor(0.0017, grad_fn=<BinaryCrossEntropyBackward0>)  accuracy :  1.0\n",
            "loss :  tensor(0.0017, grad_fn=<BinaryCrossEntropyBackward0>)  accuracy :  1.0\n",
            "loss :  tensor(0.0017, grad_fn=<BinaryCrossEntropyBackward0>)  accuracy :  1.0\n",
            "loss :  tensor(0.0017, grad_fn=<BinaryCrossEntropyBackward0>)  accuracy :  1.0\n",
            "loss :  tensor(0.0017, grad_fn=<BinaryCrossEntropyBackward0>)  accuracy :  1.0\n",
            "loss :  tensor(0.0017, grad_fn=<BinaryCrossEntropyBackward0>)  accuracy :  1.0\n",
            "loss :  tensor(0.0017, grad_fn=<BinaryCrossEntropyBackward0>)  accuracy :  1.0\n",
            "loss :  tensor(0.0017, grad_fn=<BinaryCrossEntropyBackward0>)  accuracy :  1.0\n",
            "loss :  tensor(0.0017, grad_fn=<BinaryCrossEntropyBackward0>)  accuracy :  1.0\n",
            "loss :  tensor(0.0017, grad_fn=<BinaryCrossEntropyBackward0>)  accuracy :  1.0\n",
            "loss :  tensor(0.0017, grad_fn=<BinaryCrossEntropyBackward0>)  accuracy :  1.0\n",
            "loss :  tensor(0.0017, grad_fn=<BinaryCrossEntropyBackward0>)  accuracy :  1.0\n",
            "loss :  tensor(0.0017, grad_fn=<BinaryCrossEntropyBackward0>)  accuracy :  1.0\n",
            "loss :  tensor(0.0017, grad_fn=<BinaryCrossEntropyBackward0>)  accuracy :  1.0\n",
            "loss :  tensor(0.0017, grad_fn=<BinaryCrossEntropyBackward0>)  accuracy :  1.0\n",
            "loss :  tensor(0.0017, grad_fn=<BinaryCrossEntropyBackward0>)  accuracy :  1.0\n",
            "loss :  tensor(0.0017, grad_fn=<BinaryCrossEntropyBackward0>)  accuracy :  1.0\n",
            "loss :  tensor(0.0017, grad_fn=<BinaryCrossEntropyBackward0>)  accuracy :  1.0\n",
            "loss :  tensor(0.0017, grad_fn=<BinaryCrossEntropyBackward0>)  accuracy :  1.0\n",
            "loss :  tensor(0.0017, grad_fn=<BinaryCrossEntropyBackward0>)  accuracy :  1.0\n",
            "loss :  tensor(0.0017, grad_fn=<BinaryCrossEntropyBackward0>)  accuracy :  1.0\n",
            "loss :  tensor(0.0017, grad_fn=<BinaryCrossEntropyBackward0>)  accuracy :  1.0\n",
            "loss :  tensor(0.0017, grad_fn=<BinaryCrossEntropyBackward0>)  accuracy :  1.0\n",
            "loss :  tensor(0.0017, grad_fn=<BinaryCrossEntropyBackward0>)  accuracy :  1.0\n",
            "loss :  tensor(0.0017, grad_fn=<BinaryCrossEntropyBackward0>)  accuracy :  1.0\n",
            "loss :  tensor(0.0017, grad_fn=<BinaryCrossEntropyBackward0>)  accuracy :  1.0\n",
            "loss :  tensor(0.0017, grad_fn=<BinaryCrossEntropyBackward0>)  accuracy :  1.0\n",
            "loss :  tensor(0.0017, grad_fn=<BinaryCrossEntropyBackward0>)  accuracy :  1.0\n",
            "loss :  tensor(0.0017, grad_fn=<BinaryCrossEntropyBackward0>)  accuracy :  1.0\n",
            "loss :  tensor(0.0017, grad_fn=<BinaryCrossEntropyBackward0>)  accuracy :  1.0\n",
            "loss :  tensor(0.0017, grad_fn=<BinaryCrossEntropyBackward0>)  accuracy :  1.0\n",
            "loss :  tensor(0.0017, grad_fn=<BinaryCrossEntropyBackward0>)  accuracy :  1.0\n",
            "loss :  tensor(0.0017, grad_fn=<BinaryCrossEntropyBackward0>)  accuracy :  1.0\n",
            "loss :  tensor(0.0017, grad_fn=<BinaryCrossEntropyBackward0>)  accuracy :  1.0\n",
            "loss :  tensor(0.0017, grad_fn=<BinaryCrossEntropyBackward0>)  accuracy :  1.0\n",
            "loss :  tensor(0.0017, grad_fn=<BinaryCrossEntropyBackward0>)  accuracy :  1.0\n",
            "loss :  tensor(0.0017, grad_fn=<BinaryCrossEntropyBackward0>)  accuracy :  1.0\n",
            "loss :  tensor(0.0017, grad_fn=<BinaryCrossEntropyBackward0>)  accuracy :  1.0\n",
            "loss :  tensor(0.0017, grad_fn=<BinaryCrossEntropyBackward0>)  accuracy :  1.0\n",
            "loss :  tensor(0.0017, grad_fn=<BinaryCrossEntropyBackward0>)  accuracy :  1.0\n",
            "loss :  tensor(0.0017, grad_fn=<BinaryCrossEntropyBackward0>)  accuracy :  1.0\n",
            "loss :  tensor(0.0017, grad_fn=<BinaryCrossEntropyBackward0>)  accuracy :  1.0\n",
            "loss :  tensor(0.0017, grad_fn=<BinaryCrossEntropyBackward0>)  accuracy :  1.0\n",
            "loss :  tensor(0.0017, grad_fn=<BinaryCrossEntropyBackward0>)  accuracy :  1.0\n",
            "loss :  tensor(0.0017, grad_fn=<BinaryCrossEntropyBackward0>)  accuracy :  1.0\n",
            "loss :  tensor(0.0017, grad_fn=<BinaryCrossEntropyBackward0>)  accuracy :  1.0\n",
            "loss :  tensor(0.0017, grad_fn=<BinaryCrossEntropyBackward0>)  accuracy :  1.0\n",
            "loss :  tensor(0.0017, grad_fn=<BinaryCrossEntropyBackward0>)  accuracy :  1.0\n",
            "loss :  tensor(0.0017, grad_fn=<BinaryCrossEntropyBackward0>)  accuracy :  1.0\n",
            "loss :  tensor(0.0017, grad_fn=<BinaryCrossEntropyBackward0>)  accuracy :  1.0\n",
            "loss :  tensor(0.0017, grad_fn=<BinaryCrossEntropyBackward0>)  accuracy :  1.0\n",
            "loss :  tensor(0.0017, grad_fn=<BinaryCrossEntropyBackward0>)  accuracy :  1.0\n",
            "loss :  tensor(0.0017, grad_fn=<BinaryCrossEntropyBackward0>)  accuracy :  1.0\n",
            "loss :  tensor(0.0017, grad_fn=<BinaryCrossEntropyBackward0>)  accuracy :  1.0\n",
            "loss :  tensor(0.0017, grad_fn=<BinaryCrossEntropyBackward0>)  accuracy :  1.0\n",
            "loss :  tensor(0.0017, grad_fn=<BinaryCrossEntropyBackward0>)  accuracy :  1.0\n",
            "loss :  tensor(0.0017, grad_fn=<BinaryCrossEntropyBackward0>)  accuracy :  1.0\n",
            "loss :  tensor(0.0017, grad_fn=<BinaryCrossEntropyBackward0>)  accuracy :  1.0\n",
            "loss :  tensor(0.0017, grad_fn=<BinaryCrossEntropyBackward0>)  accuracy :  1.0\n",
            "loss :  tensor(0.0017, grad_fn=<BinaryCrossEntropyBackward0>)  accuracy :  1.0\n",
            "loss :  tensor(0.0017, grad_fn=<BinaryCrossEntropyBackward0>)  accuracy :  1.0\n",
            "loss :  tensor(0.0017, grad_fn=<BinaryCrossEntropyBackward0>)  accuracy :  1.0\n",
            "loss :  tensor(0.0017, grad_fn=<BinaryCrossEntropyBackward0>)  accuracy :  1.0\n",
            "loss :  tensor(0.0017, grad_fn=<BinaryCrossEntropyBackward0>)  accuracy :  1.0\n",
            "loss :  tensor(0.0017, grad_fn=<BinaryCrossEntropyBackward0>)  accuracy :  1.0\n",
            "loss :  tensor(0.0017, grad_fn=<BinaryCrossEntropyBackward0>)  accuracy :  1.0\n",
            "loss :  tensor(0.0017, grad_fn=<BinaryCrossEntropyBackward0>)  accuracy :  1.0\n",
            "loss :  tensor(0.0017, grad_fn=<BinaryCrossEntropyBackward0>)  accuracy :  1.0\n",
            "loss :  tensor(0.0017, grad_fn=<BinaryCrossEntropyBackward0>)  accuracy :  1.0\n",
            "loss :  tensor(0.0017, grad_fn=<BinaryCrossEntropyBackward0>)  accuracy :  1.0\n",
            "loss :  tensor(0.0017, grad_fn=<BinaryCrossEntropyBackward0>)  accuracy :  1.0\n",
            "loss :  tensor(0.0017, grad_fn=<BinaryCrossEntropyBackward0>)  accuracy :  1.0\n",
            "loss :  tensor(0.0017, grad_fn=<BinaryCrossEntropyBackward0>)  accuracy :  1.0\n",
            "loss :  tensor(0.0017, grad_fn=<BinaryCrossEntropyBackward0>)  accuracy :  1.0\n",
            "loss :  tensor(0.0017, grad_fn=<BinaryCrossEntropyBackward0>)  accuracy :  1.0\n",
            "loss :  tensor(0.0017, grad_fn=<BinaryCrossEntropyBackward0>)  accuracy :  1.0\n",
            "loss :  tensor(0.0017, grad_fn=<BinaryCrossEntropyBackward0>)  accuracy :  1.0\n",
            "loss :  tensor(0.0016, grad_fn=<BinaryCrossEntropyBackward0>)  accuracy :  1.0\n",
            "loss :  tensor(0.0016, grad_fn=<BinaryCrossEntropyBackward0>)  accuracy :  1.0\n",
            "loss :  tensor(0.0016, grad_fn=<BinaryCrossEntropyBackward0>)  accuracy :  1.0\n",
            "loss :  tensor(0.0016, grad_fn=<BinaryCrossEntropyBackward0>)  accuracy :  1.0\n",
            "loss :  tensor(0.0016, grad_fn=<BinaryCrossEntropyBackward0>)  accuracy :  1.0\n",
            "loss :  tensor(0.0016, grad_fn=<BinaryCrossEntropyBackward0>)  accuracy :  1.0\n",
            "loss :  tensor(0.0016, grad_fn=<BinaryCrossEntropyBackward0>)  accuracy :  1.0\n",
            "loss :  tensor(0.0016, grad_fn=<BinaryCrossEntropyBackward0>)  accuracy :  1.0\n",
            "loss :  tensor(0.0016, grad_fn=<BinaryCrossEntropyBackward0>)  accuracy :  1.0\n",
            "loss :  tensor(0.0016, grad_fn=<BinaryCrossEntropyBackward0>)  accuracy :  1.0\n",
            "loss :  tensor(0.0016, grad_fn=<BinaryCrossEntropyBackward0>)  accuracy :  1.0\n",
            "loss :  tensor(0.0016, grad_fn=<BinaryCrossEntropyBackward0>)  accuracy :  1.0\n",
            "loss :  tensor(0.0016, grad_fn=<BinaryCrossEntropyBackward0>)  accuracy :  1.0\n",
            "loss :  tensor(0.0016, grad_fn=<BinaryCrossEntropyBackward0>)  accuracy :  1.0\n",
            "loss :  tensor(0.0016, grad_fn=<BinaryCrossEntropyBackward0>)  accuracy :  1.0\n",
            "loss :  tensor(0.0016, grad_fn=<BinaryCrossEntropyBackward0>)  accuracy :  1.0\n",
            "loss :  tensor(0.0016, grad_fn=<BinaryCrossEntropyBackward0>)  accuracy :  1.0\n",
            "loss :  tensor(0.0016, grad_fn=<BinaryCrossEntropyBackward0>)  accuracy :  1.0\n",
            "loss :  tensor(0.0016, grad_fn=<BinaryCrossEntropyBackward0>)  accuracy :  1.0\n",
            "loss :  tensor(0.0016, grad_fn=<BinaryCrossEntropyBackward0>)  accuracy :  1.0\n",
            "loss :  tensor(0.0016, grad_fn=<BinaryCrossEntropyBackward0>)  accuracy :  1.0\n",
            "loss :  tensor(0.0016, grad_fn=<BinaryCrossEntropyBackward0>)  accuracy :  1.0\n",
            "loss :  tensor(0.0016, grad_fn=<BinaryCrossEntropyBackward0>)  accuracy :  1.0\n",
            "loss :  tensor(0.0016, grad_fn=<BinaryCrossEntropyBackward0>)  accuracy :  1.0\n",
            "loss :  tensor(0.0016, grad_fn=<BinaryCrossEntropyBackward0>)  accuracy :  1.0\n",
            "loss :  tensor(0.0016, grad_fn=<BinaryCrossEntropyBackward0>)  accuracy :  1.0\n",
            "loss :  tensor(0.0016, grad_fn=<BinaryCrossEntropyBackward0>)  accuracy :  1.0\n",
            "loss :  tensor(0.0016, grad_fn=<BinaryCrossEntropyBackward0>)  accuracy :  1.0\n",
            "loss :  tensor(0.0016, grad_fn=<BinaryCrossEntropyBackward0>)  accuracy :  1.0\n",
            "loss :  tensor(0.0016, grad_fn=<BinaryCrossEntropyBackward0>)  accuracy :  1.0\n",
            "loss :  tensor(0.0016, grad_fn=<BinaryCrossEntropyBackward0>)  accuracy :  1.0\n",
            "loss :  tensor(0.0016, grad_fn=<BinaryCrossEntropyBackward0>)  accuracy :  1.0\n",
            "loss :  tensor(0.0016, grad_fn=<BinaryCrossEntropyBackward0>)  accuracy :  1.0\n",
            "loss :  tensor(0.0016, grad_fn=<BinaryCrossEntropyBackward0>)  accuracy :  1.0\n",
            "loss :  tensor(0.0016, grad_fn=<BinaryCrossEntropyBackward0>)  accuracy :  1.0\n",
            "loss :  tensor(0.0016, grad_fn=<BinaryCrossEntropyBackward0>)  accuracy :  1.0\n",
            "loss :  tensor(0.0016, grad_fn=<BinaryCrossEntropyBackward0>)  accuracy :  1.0\n",
            "loss :  tensor(0.0016, grad_fn=<BinaryCrossEntropyBackward0>)  accuracy :  1.0\n",
            "loss :  tensor(0.0016, grad_fn=<BinaryCrossEntropyBackward0>)  accuracy :  1.0\n",
            "loss :  tensor(0.0016, grad_fn=<BinaryCrossEntropyBackward0>)  accuracy :  1.0\n",
            "loss :  tensor(0.0016, grad_fn=<BinaryCrossEntropyBackward0>)  accuracy :  1.0\n",
            "loss :  tensor(0.0016, grad_fn=<BinaryCrossEntropyBackward0>)  accuracy :  1.0\n",
            "loss :  tensor(0.0016, grad_fn=<BinaryCrossEntropyBackward0>)  accuracy :  1.0\n",
            "loss :  tensor(0.0016, grad_fn=<BinaryCrossEntropyBackward0>)  accuracy :  1.0\n",
            "loss :  tensor(0.0016, grad_fn=<BinaryCrossEntropyBackward0>)  accuracy :  1.0\n",
            "loss :  tensor(0.0016, grad_fn=<BinaryCrossEntropyBackward0>)  accuracy :  1.0\n",
            "loss :  tensor(0.0016, grad_fn=<BinaryCrossEntropyBackward0>)  accuracy :  1.0\n",
            "loss :  tensor(0.0016, grad_fn=<BinaryCrossEntropyBackward0>)  accuracy :  1.0\n",
            "loss :  tensor(0.0016, grad_fn=<BinaryCrossEntropyBackward0>)  accuracy :  1.0\n",
            "loss :  tensor(0.0016, grad_fn=<BinaryCrossEntropyBackward0>)  accuracy :  1.0\n",
            "loss :  tensor(0.0016, grad_fn=<BinaryCrossEntropyBackward0>)  accuracy :  1.0\n",
            "loss :  tensor(0.0016, grad_fn=<BinaryCrossEntropyBackward0>)  accuracy :  1.0\n",
            "loss :  tensor(0.0016, grad_fn=<BinaryCrossEntropyBackward0>)  accuracy :  1.0\n",
            "loss :  tensor(0.0016, grad_fn=<BinaryCrossEntropyBackward0>)  accuracy :  1.0\n",
            "loss :  tensor(0.0016, grad_fn=<BinaryCrossEntropyBackward0>)  accuracy :  1.0\n",
            "loss :  tensor(0.0016, grad_fn=<BinaryCrossEntropyBackward0>)  accuracy :  1.0\n",
            "loss :  tensor(0.0016, grad_fn=<BinaryCrossEntropyBackward0>)  accuracy :  1.0\n",
            "loss :  tensor(0.0016, grad_fn=<BinaryCrossEntropyBackward0>)  accuracy :  1.0\n",
            "loss :  tensor(0.0016, grad_fn=<BinaryCrossEntropyBackward0>)  accuracy :  1.0\n",
            "loss :  tensor(0.0016, grad_fn=<BinaryCrossEntropyBackward0>)  accuracy :  1.0\n",
            "loss :  tensor(0.0016, grad_fn=<BinaryCrossEntropyBackward0>)  accuracy :  1.0\n",
            "loss :  tensor(0.0016, grad_fn=<BinaryCrossEntropyBackward0>)  accuracy :  1.0\n",
            "loss :  tensor(0.0016, grad_fn=<BinaryCrossEntropyBackward0>)  accuracy :  1.0\n",
            "loss :  tensor(0.0016, grad_fn=<BinaryCrossEntropyBackward0>)  accuracy :  1.0\n",
            "loss :  tensor(0.0016, grad_fn=<BinaryCrossEntropyBackward0>)  accuracy :  1.0\n",
            "loss :  tensor(0.0016, grad_fn=<BinaryCrossEntropyBackward0>)  accuracy :  1.0\n",
            "loss :  tensor(0.0016, grad_fn=<BinaryCrossEntropyBackward0>)  accuracy :  1.0\n",
            "loss :  tensor(0.0016, grad_fn=<BinaryCrossEntropyBackward0>)  accuracy :  1.0\n",
            "loss :  tensor(0.0016, grad_fn=<BinaryCrossEntropyBackward0>)  accuracy :  1.0\n",
            "loss :  tensor(0.0016, grad_fn=<BinaryCrossEntropyBackward0>)  accuracy :  1.0\n",
            "loss :  tensor(0.0016, grad_fn=<BinaryCrossEntropyBackward0>)  accuracy :  1.0\n",
            "loss :  tensor(0.0016, grad_fn=<BinaryCrossEntropyBackward0>)  accuracy :  1.0\n",
            "loss :  tensor(0.0016, grad_fn=<BinaryCrossEntropyBackward0>)  accuracy :  1.0\n",
            "loss :  tensor(0.0016, grad_fn=<BinaryCrossEntropyBackward0>)  accuracy :  1.0\n",
            "loss :  tensor(0.0016, grad_fn=<BinaryCrossEntropyBackward0>)  accuracy :  1.0\n",
            "loss :  tensor(0.0016, grad_fn=<BinaryCrossEntropyBackward0>)  accuracy :  1.0\n",
            "loss :  tensor(0.0016, grad_fn=<BinaryCrossEntropyBackward0>)  accuracy :  1.0\n",
            "loss :  tensor(0.0016, grad_fn=<BinaryCrossEntropyBackward0>)  accuracy :  1.0\n",
            "loss :  tensor(0.0016, grad_fn=<BinaryCrossEntropyBackward0>)  accuracy :  1.0\n",
            "loss :  tensor(0.0016, grad_fn=<BinaryCrossEntropyBackward0>)  accuracy :  1.0\n",
            "loss :  tensor(0.0016, grad_fn=<BinaryCrossEntropyBackward0>)  accuracy :  1.0\n",
            "loss :  tensor(0.0016, grad_fn=<BinaryCrossEntropyBackward0>)  accuracy :  1.0\n",
            "loss :  tensor(0.0016, grad_fn=<BinaryCrossEntropyBackward0>)  accuracy :  1.0\n",
            "loss :  tensor(0.0016, grad_fn=<BinaryCrossEntropyBackward0>)  accuracy :  1.0\n",
            "loss :  tensor(0.0016, grad_fn=<BinaryCrossEntropyBackward0>)  accuracy :  1.0\n",
            "loss :  tensor(0.0016, grad_fn=<BinaryCrossEntropyBackward0>)  accuracy :  1.0\n",
            "loss :  tensor(0.0016, grad_fn=<BinaryCrossEntropyBackward0>)  accuracy :  1.0\n",
            "loss :  tensor(0.0016, grad_fn=<BinaryCrossEntropyBackward0>)  accuracy :  1.0\n",
            "loss :  tensor(0.0016, grad_fn=<BinaryCrossEntropyBackward0>)  accuracy :  1.0\n",
            "loss :  tensor(0.0016, grad_fn=<BinaryCrossEntropyBackward0>)  accuracy :  1.0\n",
            "loss :  tensor(0.0016, grad_fn=<BinaryCrossEntropyBackward0>)  accuracy :  1.0\n",
            "loss :  tensor(0.0016, grad_fn=<BinaryCrossEntropyBackward0>)  accuracy :  1.0\n",
            "loss :  tensor(0.0016, grad_fn=<BinaryCrossEntropyBackward0>)  accuracy :  1.0\n",
            "loss :  tensor(0.0016, grad_fn=<BinaryCrossEntropyBackward0>)  accuracy :  1.0\n",
            "loss :  tensor(0.0016, grad_fn=<BinaryCrossEntropyBackward0>)  accuracy :  1.0\n",
            "loss :  tensor(0.0016, grad_fn=<BinaryCrossEntropyBackward0>)  accuracy :  1.0\n",
            "loss :  tensor(0.0016, grad_fn=<BinaryCrossEntropyBackward0>)  accuracy :  1.0\n",
            "loss :  tensor(0.0016, grad_fn=<BinaryCrossEntropyBackward0>)  accuracy :  1.0\n",
            "loss :  tensor(0.0016, grad_fn=<BinaryCrossEntropyBackward0>)  accuracy :  1.0\n",
            "loss :  tensor(0.0016, grad_fn=<BinaryCrossEntropyBackward0>)  accuracy :  1.0\n",
            "loss :  tensor(0.0016, grad_fn=<BinaryCrossEntropyBackward0>)  accuracy :  1.0\n",
            "loss :  tensor(0.0016, grad_fn=<BinaryCrossEntropyBackward0>)  accuracy :  1.0\n",
            "loss :  tensor(0.0016, grad_fn=<BinaryCrossEntropyBackward0>)  accuracy :  1.0\n",
            "loss :  tensor(0.0016, grad_fn=<BinaryCrossEntropyBackward0>)  accuracy :  1.0\n",
            "loss :  tensor(0.0016, grad_fn=<BinaryCrossEntropyBackward0>)  accuracy :  1.0\n",
            "loss :  tensor(0.0016, grad_fn=<BinaryCrossEntropyBackward0>)  accuracy :  1.0\n",
            "loss :  tensor(0.0016, grad_fn=<BinaryCrossEntropyBackward0>)  accuracy :  1.0\n",
            "loss :  tensor(0.0016, grad_fn=<BinaryCrossEntropyBackward0>)  accuracy :  1.0\n",
            "loss :  tensor(0.0016, grad_fn=<BinaryCrossEntropyBackward0>)  accuracy :  1.0\n",
            "loss :  tensor(0.0016, grad_fn=<BinaryCrossEntropyBackward0>)  accuracy :  1.0\n",
            "loss :  tensor(0.0016, grad_fn=<BinaryCrossEntropyBackward0>)  accuracy :  1.0\n",
            "loss :  tensor(0.0016, grad_fn=<BinaryCrossEntropyBackward0>)  accuracy :  1.0\n",
            "loss :  tensor(0.0016, grad_fn=<BinaryCrossEntropyBackward0>)  accuracy :  1.0\n",
            "loss :  tensor(0.0016, grad_fn=<BinaryCrossEntropyBackward0>)  accuracy :  1.0\n",
            "loss :  tensor(0.0016, grad_fn=<BinaryCrossEntropyBackward0>)  accuracy :  1.0\n",
            "loss :  tensor(0.0016, grad_fn=<BinaryCrossEntropyBackward0>)  accuracy :  1.0\n",
            "loss :  tensor(0.0016, grad_fn=<BinaryCrossEntropyBackward0>)  accuracy :  1.0\n",
            "loss :  tensor(0.0016, grad_fn=<BinaryCrossEntropyBackward0>)  accuracy :  1.0\n",
            "loss :  tensor(0.0016, grad_fn=<BinaryCrossEntropyBackward0>)  accuracy :  1.0\n",
            "loss :  tensor(0.0016, grad_fn=<BinaryCrossEntropyBackward0>)  accuracy :  1.0\n",
            "loss :  tensor(0.0016, grad_fn=<BinaryCrossEntropyBackward0>)  accuracy :  1.0\n",
            "loss :  tensor(0.0016, grad_fn=<BinaryCrossEntropyBackward0>)  accuracy :  1.0\n",
            "loss :  tensor(0.0016, grad_fn=<BinaryCrossEntropyBackward0>)  accuracy :  1.0\n",
            "loss :  tensor(0.0016, grad_fn=<BinaryCrossEntropyBackward0>)  accuracy :  1.0\n",
            "loss :  tensor(0.0016, grad_fn=<BinaryCrossEntropyBackward0>)  accuracy :  1.0\n",
            "loss :  tensor(0.0016, grad_fn=<BinaryCrossEntropyBackward0>)  accuracy :  1.0\n",
            "loss :  tensor(0.0016, grad_fn=<BinaryCrossEntropyBackward0>)  accuracy :  1.0\n",
            "loss :  tensor(0.0016, grad_fn=<BinaryCrossEntropyBackward0>)  accuracy :  1.0\n",
            "loss :  tensor(0.0016, grad_fn=<BinaryCrossEntropyBackward0>)  accuracy :  1.0\n",
            "loss :  tensor(0.0016, grad_fn=<BinaryCrossEntropyBackward0>)  accuracy :  1.0\n",
            "loss :  tensor(0.0016, grad_fn=<BinaryCrossEntropyBackward0>)  accuracy :  1.0\n",
            "loss :  tensor(0.0016, grad_fn=<BinaryCrossEntropyBackward0>)  accuracy :  1.0\n",
            "loss :  tensor(0.0016, grad_fn=<BinaryCrossEntropyBackward0>)  accuracy :  1.0\n",
            "loss :  tensor(0.0016, grad_fn=<BinaryCrossEntropyBackward0>)  accuracy :  1.0\n",
            "loss :  tensor(0.0015, grad_fn=<BinaryCrossEntropyBackward0>)  accuracy :  1.0\n",
            "loss :  tensor(0.0015, grad_fn=<BinaryCrossEntropyBackward0>)  accuracy :  1.0\n",
            "loss :  tensor(0.0015, grad_fn=<BinaryCrossEntropyBackward0>)  accuracy :  1.0\n",
            "loss :  tensor(0.0015, grad_fn=<BinaryCrossEntropyBackward0>)  accuracy :  1.0\n",
            "loss :  tensor(0.0015, grad_fn=<BinaryCrossEntropyBackward0>)  accuracy :  1.0\n",
            "loss :  tensor(0.0015, grad_fn=<BinaryCrossEntropyBackward0>)  accuracy :  1.0\n",
            "loss :  tensor(0.0015, grad_fn=<BinaryCrossEntropyBackward0>)  accuracy :  1.0\n",
            "loss :  tensor(0.0015, grad_fn=<BinaryCrossEntropyBackward0>)  accuracy :  1.0\n",
            "loss :  tensor(0.0015, grad_fn=<BinaryCrossEntropyBackward0>)  accuracy :  1.0\n",
            "loss :  tensor(0.0015, grad_fn=<BinaryCrossEntropyBackward0>)  accuracy :  1.0\n",
            "loss :  tensor(0.0015, grad_fn=<BinaryCrossEntropyBackward0>)  accuracy :  1.0\n",
            "loss :  tensor(0.0015, grad_fn=<BinaryCrossEntropyBackward0>)  accuracy :  1.0\n",
            "loss :  tensor(0.0015, grad_fn=<BinaryCrossEntropyBackward0>)  accuracy :  1.0\n",
            "loss :  tensor(0.0015, grad_fn=<BinaryCrossEntropyBackward0>)  accuracy :  1.0\n",
            "loss :  tensor(0.0015, grad_fn=<BinaryCrossEntropyBackward0>)  accuracy :  1.0\n",
            "loss :  tensor(0.0015, grad_fn=<BinaryCrossEntropyBackward0>)  accuracy :  1.0\n",
            "loss :  tensor(0.0015, grad_fn=<BinaryCrossEntropyBackward0>)  accuracy :  1.0\n",
            "loss :  tensor(0.0015, grad_fn=<BinaryCrossEntropyBackward0>)  accuracy :  1.0\n",
            "loss :  tensor(0.0015, grad_fn=<BinaryCrossEntropyBackward0>)  accuracy :  1.0\n",
            "loss :  tensor(0.0015, grad_fn=<BinaryCrossEntropyBackward0>)  accuracy :  1.0\n",
            "loss :  tensor(0.0015, grad_fn=<BinaryCrossEntropyBackward0>)  accuracy :  1.0\n",
            "loss :  tensor(0.0015, grad_fn=<BinaryCrossEntropyBackward0>)  accuracy :  1.0\n",
            "loss :  tensor(0.0015, grad_fn=<BinaryCrossEntropyBackward0>)  accuracy :  1.0\n",
            "loss :  tensor(0.0015, grad_fn=<BinaryCrossEntropyBackward0>)  accuracy :  1.0\n",
            "loss :  tensor(0.0015, grad_fn=<BinaryCrossEntropyBackward0>)  accuracy :  1.0\n",
            "loss :  tensor(0.0015, grad_fn=<BinaryCrossEntropyBackward0>)  accuracy :  1.0\n",
            "loss :  tensor(0.0015, grad_fn=<BinaryCrossEntropyBackward0>)  accuracy :  1.0\n",
            "loss :  tensor(0.0015, grad_fn=<BinaryCrossEntropyBackward0>)  accuracy :  1.0\n",
            "loss :  tensor(0.0015, grad_fn=<BinaryCrossEntropyBackward0>)  accuracy :  1.0\n",
            "loss :  tensor(0.0015, grad_fn=<BinaryCrossEntropyBackward0>)  accuracy :  1.0\n",
            "loss :  tensor(0.0015, grad_fn=<BinaryCrossEntropyBackward0>)  accuracy :  1.0\n",
            "loss :  tensor(0.0015, grad_fn=<BinaryCrossEntropyBackward0>)  accuracy :  1.0\n",
            "loss :  tensor(0.0015, grad_fn=<BinaryCrossEntropyBackward0>)  accuracy :  1.0\n",
            "loss :  tensor(0.0015, grad_fn=<BinaryCrossEntropyBackward0>)  accuracy :  1.0\n",
            "loss :  tensor(0.0015, grad_fn=<BinaryCrossEntropyBackward0>)  accuracy :  1.0\n",
            "loss :  tensor(0.0015, grad_fn=<BinaryCrossEntropyBackward0>)  accuracy :  1.0\n",
            "loss :  tensor(0.0015, grad_fn=<BinaryCrossEntropyBackward0>)  accuracy :  1.0\n",
            "loss :  tensor(0.0015, grad_fn=<BinaryCrossEntropyBackward0>)  accuracy :  1.0\n",
            "loss :  tensor(0.0015, grad_fn=<BinaryCrossEntropyBackward0>)  accuracy :  1.0\n",
            "loss :  tensor(0.0015, grad_fn=<BinaryCrossEntropyBackward0>)  accuracy :  1.0\n",
            "loss :  tensor(0.0015, grad_fn=<BinaryCrossEntropyBackward0>)  accuracy :  1.0\n",
            "loss :  tensor(0.0015, grad_fn=<BinaryCrossEntropyBackward0>)  accuracy :  1.0\n",
            "loss :  tensor(0.0015, grad_fn=<BinaryCrossEntropyBackward0>)  accuracy :  1.0\n",
            "loss :  tensor(0.0015, grad_fn=<BinaryCrossEntropyBackward0>)  accuracy :  1.0\n",
            "loss :  tensor(0.0015, grad_fn=<BinaryCrossEntropyBackward0>)  accuracy :  1.0\n",
            "loss :  tensor(0.0015, grad_fn=<BinaryCrossEntropyBackward0>)  accuracy :  1.0\n",
            "loss :  tensor(0.0015, grad_fn=<BinaryCrossEntropyBackward0>)  accuracy :  1.0\n",
            "loss :  tensor(0.0015, grad_fn=<BinaryCrossEntropyBackward0>)  accuracy :  1.0\n",
            "loss :  tensor(0.0015, grad_fn=<BinaryCrossEntropyBackward0>)  accuracy :  1.0\n",
            "loss :  tensor(0.0015, grad_fn=<BinaryCrossEntropyBackward0>)  accuracy :  1.0\n",
            "loss :  tensor(0.0015, grad_fn=<BinaryCrossEntropyBackward0>)  accuracy :  1.0\n",
            "loss :  tensor(0.0015, grad_fn=<BinaryCrossEntropyBackward0>)  accuracy :  1.0\n",
            "loss :  tensor(0.0015, grad_fn=<BinaryCrossEntropyBackward0>)  accuracy :  1.0\n",
            "loss :  tensor(0.0015, grad_fn=<BinaryCrossEntropyBackward0>)  accuracy :  1.0\n",
            "loss :  tensor(0.0015, grad_fn=<BinaryCrossEntropyBackward0>)  accuracy :  1.0\n",
            "loss :  tensor(0.0015, grad_fn=<BinaryCrossEntropyBackward0>)  accuracy :  1.0\n",
            "loss :  tensor(0.0015, grad_fn=<BinaryCrossEntropyBackward0>)  accuracy :  1.0\n",
            "loss :  tensor(0.0015, grad_fn=<BinaryCrossEntropyBackward0>)  accuracy :  1.0\n",
            "loss :  tensor(0.0015, grad_fn=<BinaryCrossEntropyBackward0>)  accuracy :  1.0\n",
            "loss :  tensor(0.0015, grad_fn=<BinaryCrossEntropyBackward0>)  accuracy :  1.0\n",
            "loss :  tensor(0.0015, grad_fn=<BinaryCrossEntropyBackward0>)  accuracy :  1.0\n",
            "loss :  tensor(0.0015, grad_fn=<BinaryCrossEntropyBackward0>)  accuracy :  1.0\n",
            "loss :  tensor(0.0015, grad_fn=<BinaryCrossEntropyBackward0>)  accuracy :  1.0\n",
            "loss :  tensor(0.0015, grad_fn=<BinaryCrossEntropyBackward0>)  accuracy :  1.0\n",
            "loss :  tensor(0.0015, grad_fn=<BinaryCrossEntropyBackward0>)  accuracy :  1.0\n",
            "loss :  tensor(0.0015, grad_fn=<BinaryCrossEntropyBackward0>)  accuracy :  1.0\n",
            "loss :  tensor(0.0015, grad_fn=<BinaryCrossEntropyBackward0>)  accuracy :  1.0\n",
            "loss :  tensor(0.0015, grad_fn=<BinaryCrossEntropyBackward0>)  accuracy :  1.0\n",
            "loss :  tensor(0.0015, grad_fn=<BinaryCrossEntropyBackward0>)  accuracy :  1.0\n",
            "loss :  tensor(0.0015, grad_fn=<BinaryCrossEntropyBackward0>)  accuracy :  1.0\n",
            "loss :  tensor(0.0015, grad_fn=<BinaryCrossEntropyBackward0>)  accuracy :  1.0\n",
            "loss :  tensor(0.0015, grad_fn=<BinaryCrossEntropyBackward0>)  accuracy :  1.0\n",
            "loss :  tensor(0.0015, grad_fn=<BinaryCrossEntropyBackward0>)  accuracy :  1.0\n",
            "loss :  tensor(0.0015, grad_fn=<BinaryCrossEntropyBackward0>)  accuracy :  1.0\n",
            "loss :  tensor(0.0015, grad_fn=<BinaryCrossEntropyBackward0>)  accuracy :  1.0\n",
            "loss :  tensor(0.0015, grad_fn=<BinaryCrossEntropyBackward0>)  accuracy :  1.0\n",
            "loss :  tensor(0.0015, grad_fn=<BinaryCrossEntropyBackward0>)  accuracy :  1.0\n",
            "loss :  tensor(0.0015, grad_fn=<BinaryCrossEntropyBackward0>)  accuracy :  1.0\n",
            "loss :  tensor(0.0015, grad_fn=<BinaryCrossEntropyBackward0>)  accuracy :  1.0\n",
            "loss :  tensor(0.0015, grad_fn=<BinaryCrossEntropyBackward0>)  accuracy :  1.0\n",
            "loss :  tensor(0.0015, grad_fn=<BinaryCrossEntropyBackward0>)  accuracy :  1.0\n",
            "loss :  tensor(0.0015, grad_fn=<BinaryCrossEntropyBackward0>)  accuracy :  1.0\n",
            "loss :  tensor(0.0015, grad_fn=<BinaryCrossEntropyBackward0>)  accuracy :  1.0\n",
            "loss :  tensor(0.0015, grad_fn=<BinaryCrossEntropyBackward0>)  accuracy :  1.0\n",
            "loss :  tensor(0.0015, grad_fn=<BinaryCrossEntropyBackward0>)  accuracy :  1.0\n",
            "loss :  tensor(0.0015, grad_fn=<BinaryCrossEntropyBackward0>)  accuracy :  1.0\n",
            "loss :  tensor(0.0015, grad_fn=<BinaryCrossEntropyBackward0>)  accuracy :  1.0\n",
            "loss :  tensor(0.0015, grad_fn=<BinaryCrossEntropyBackward0>)  accuracy :  1.0\n",
            "loss :  tensor(0.0015, grad_fn=<BinaryCrossEntropyBackward0>)  accuracy :  1.0\n",
            "loss :  tensor(0.0015, grad_fn=<BinaryCrossEntropyBackward0>)  accuracy :  1.0\n",
            "loss :  tensor(0.0015, grad_fn=<BinaryCrossEntropyBackward0>)  accuracy :  1.0\n",
            "loss :  tensor(0.0015, grad_fn=<BinaryCrossEntropyBackward0>)  accuracy :  1.0\n",
            "loss :  tensor(0.0015, grad_fn=<BinaryCrossEntropyBackward0>)  accuracy :  1.0\n",
            "loss :  tensor(0.0015, grad_fn=<BinaryCrossEntropyBackward0>)  accuracy :  1.0\n",
            "loss :  tensor(0.0015, grad_fn=<BinaryCrossEntropyBackward0>)  accuracy :  1.0\n",
            "loss :  tensor(0.0015, grad_fn=<BinaryCrossEntropyBackward0>)  accuracy :  1.0\n",
            "loss :  tensor(0.0015, grad_fn=<BinaryCrossEntropyBackward0>)  accuracy :  1.0\n",
            "loss :  tensor(0.0015, grad_fn=<BinaryCrossEntropyBackward0>)  accuracy :  1.0\n",
            "loss :  tensor(0.0015, grad_fn=<BinaryCrossEntropyBackward0>)  accuracy :  1.0\n",
            "loss :  tensor(0.0015, grad_fn=<BinaryCrossEntropyBackward0>)  accuracy :  1.0\n",
            "loss :  tensor(0.0015, grad_fn=<BinaryCrossEntropyBackward0>)  accuracy :  1.0\n",
            "loss :  tensor(0.0015, grad_fn=<BinaryCrossEntropyBackward0>)  accuracy :  1.0\n",
            "loss :  tensor(0.0015, grad_fn=<BinaryCrossEntropyBackward0>)  accuracy :  1.0\n",
            "loss :  tensor(0.0015, grad_fn=<BinaryCrossEntropyBackward0>)  accuracy :  1.0\n",
            "loss :  tensor(0.0015, grad_fn=<BinaryCrossEntropyBackward0>)  accuracy :  1.0\n",
            "loss :  tensor(0.0015, grad_fn=<BinaryCrossEntropyBackward0>)  accuracy :  1.0\n",
            "loss :  tensor(0.0015, grad_fn=<BinaryCrossEntropyBackward0>)  accuracy :  1.0\n",
            "loss :  tensor(0.0015, grad_fn=<BinaryCrossEntropyBackward0>)  accuracy :  1.0\n",
            "loss :  tensor(0.0015, grad_fn=<BinaryCrossEntropyBackward0>)  accuracy :  1.0\n",
            "loss :  tensor(0.0015, grad_fn=<BinaryCrossEntropyBackward0>)  accuracy :  1.0\n",
            "loss :  tensor(0.0015, grad_fn=<BinaryCrossEntropyBackward0>)  accuracy :  1.0\n",
            "loss :  tensor(0.0015, grad_fn=<BinaryCrossEntropyBackward0>)  accuracy :  1.0\n",
            "loss :  tensor(0.0015, grad_fn=<BinaryCrossEntropyBackward0>)  accuracy :  1.0\n",
            "loss :  tensor(0.0015, grad_fn=<BinaryCrossEntropyBackward0>)  accuracy :  1.0\n",
            "loss :  tensor(0.0015, grad_fn=<BinaryCrossEntropyBackward0>)  accuracy :  1.0\n",
            "loss :  tensor(0.0015, grad_fn=<BinaryCrossEntropyBackward0>)  accuracy :  1.0\n",
            "loss :  tensor(0.0015, grad_fn=<BinaryCrossEntropyBackward0>)  accuracy :  1.0\n",
            "loss :  tensor(0.0015, grad_fn=<BinaryCrossEntropyBackward0>)  accuracy :  1.0\n",
            "loss :  tensor(0.0015, grad_fn=<BinaryCrossEntropyBackward0>)  accuracy :  1.0\n",
            "loss :  tensor(0.0015, grad_fn=<BinaryCrossEntropyBackward0>)  accuracy :  1.0\n",
            "loss :  tensor(0.0015, grad_fn=<BinaryCrossEntropyBackward0>)  accuracy :  1.0\n",
            "loss :  tensor(0.0015, grad_fn=<BinaryCrossEntropyBackward0>)  accuracy :  1.0\n",
            "loss :  tensor(0.0015, grad_fn=<BinaryCrossEntropyBackward0>)  accuracy :  1.0\n",
            "loss :  tensor(0.0015, grad_fn=<BinaryCrossEntropyBackward0>)  accuracy :  1.0\n",
            "loss :  tensor(0.0015, grad_fn=<BinaryCrossEntropyBackward0>)  accuracy :  1.0\n",
            "loss :  tensor(0.0015, grad_fn=<BinaryCrossEntropyBackward0>)  accuracy :  1.0\n",
            "loss :  tensor(0.0015, grad_fn=<BinaryCrossEntropyBackward0>)  accuracy :  1.0\n",
            "loss :  tensor(0.0015, grad_fn=<BinaryCrossEntropyBackward0>)  accuracy :  1.0\n",
            "loss :  tensor(0.0015, grad_fn=<BinaryCrossEntropyBackward0>)  accuracy :  1.0\n",
            "loss :  tensor(0.0015, grad_fn=<BinaryCrossEntropyBackward0>)  accuracy :  1.0\n",
            "loss :  tensor(0.0015, grad_fn=<BinaryCrossEntropyBackward0>)  accuracy :  1.0\n",
            "loss :  tensor(0.0015, grad_fn=<BinaryCrossEntropyBackward0>)  accuracy :  1.0\n",
            "loss :  tensor(0.0015, grad_fn=<BinaryCrossEntropyBackward0>)  accuracy :  1.0\n",
            "loss :  tensor(0.0015, grad_fn=<BinaryCrossEntropyBackward0>)  accuracy :  1.0\n",
            "loss :  tensor(0.0015, grad_fn=<BinaryCrossEntropyBackward0>)  accuracy :  1.0\n",
            "loss :  tensor(0.0015, grad_fn=<BinaryCrossEntropyBackward0>)  accuracy :  1.0\n",
            "loss :  tensor(0.0015, grad_fn=<BinaryCrossEntropyBackward0>)  accuracy :  1.0\n",
            "loss :  tensor(0.0015, grad_fn=<BinaryCrossEntropyBackward0>)  accuracy :  1.0\n",
            "loss :  tensor(0.0015, grad_fn=<BinaryCrossEntropyBackward0>)  accuracy :  1.0\n",
            "loss :  tensor(0.0015, grad_fn=<BinaryCrossEntropyBackward0>)  accuracy :  1.0\n",
            "loss :  tensor(0.0015, grad_fn=<BinaryCrossEntropyBackward0>)  accuracy :  1.0\n",
            "loss :  tensor(0.0015, grad_fn=<BinaryCrossEntropyBackward0>)  accuracy :  1.0\n",
            "loss :  tensor(0.0015, grad_fn=<BinaryCrossEntropyBackward0>)  accuracy :  1.0\n",
            "loss :  tensor(0.0015, grad_fn=<BinaryCrossEntropyBackward0>)  accuracy :  1.0\n",
            "loss :  tensor(0.0015, grad_fn=<BinaryCrossEntropyBackward0>)  accuracy :  1.0\n",
            "loss :  tensor(0.0015, grad_fn=<BinaryCrossEntropyBackward0>)  accuracy :  1.0\n",
            "loss :  tensor(0.0015, grad_fn=<BinaryCrossEntropyBackward0>)  accuracy :  1.0\n",
            "loss :  tensor(0.0015, grad_fn=<BinaryCrossEntropyBackward0>)  accuracy :  1.0\n",
            "loss :  tensor(0.0015, grad_fn=<BinaryCrossEntropyBackward0>)  accuracy :  1.0\n",
            "loss :  tensor(0.0015, grad_fn=<BinaryCrossEntropyBackward0>)  accuracy :  1.0\n",
            "loss :  tensor(0.0015, grad_fn=<BinaryCrossEntropyBackward0>)  accuracy :  1.0\n",
            "loss :  tensor(0.0014, grad_fn=<BinaryCrossEntropyBackward0>)  accuracy :  1.0\n",
            "loss :  tensor(0.0014, grad_fn=<BinaryCrossEntropyBackward0>)  accuracy :  1.0\n",
            "loss :  tensor(0.0014, grad_fn=<BinaryCrossEntropyBackward0>)  accuracy :  1.0\n",
            "loss :  tensor(0.0014, grad_fn=<BinaryCrossEntropyBackward0>)  accuracy :  1.0\n",
            "loss :  tensor(0.0014, grad_fn=<BinaryCrossEntropyBackward0>)  accuracy :  1.0\n",
            "loss :  tensor(0.0014, grad_fn=<BinaryCrossEntropyBackward0>)  accuracy :  1.0\n",
            "loss :  tensor(0.0014, grad_fn=<BinaryCrossEntropyBackward0>)  accuracy :  1.0\n",
            "loss :  tensor(0.0014, grad_fn=<BinaryCrossEntropyBackward0>)  accuracy :  1.0\n",
            "loss :  tensor(0.0014, grad_fn=<BinaryCrossEntropyBackward0>)  accuracy :  1.0\n",
            "loss :  tensor(0.0014, grad_fn=<BinaryCrossEntropyBackward0>)  accuracy :  1.0\n",
            "loss :  tensor(0.0014, grad_fn=<BinaryCrossEntropyBackward0>)  accuracy :  1.0\n",
            "loss :  tensor(0.0014, grad_fn=<BinaryCrossEntropyBackward0>)  accuracy :  1.0\n",
            "loss :  tensor(0.0014, grad_fn=<BinaryCrossEntropyBackward0>)  accuracy :  1.0\n",
            "loss :  tensor(0.0014, grad_fn=<BinaryCrossEntropyBackward0>)  accuracy :  1.0\n",
            "loss :  tensor(0.0014, grad_fn=<BinaryCrossEntropyBackward0>)  accuracy :  1.0\n",
            "loss :  tensor(0.0014, grad_fn=<BinaryCrossEntropyBackward0>)  accuracy :  1.0\n",
            "loss :  tensor(0.0014, grad_fn=<BinaryCrossEntropyBackward0>)  accuracy :  1.0\n",
            "loss :  tensor(0.0014, grad_fn=<BinaryCrossEntropyBackward0>)  accuracy :  1.0\n",
            "loss :  tensor(0.0014, grad_fn=<BinaryCrossEntropyBackward0>)  accuracy :  1.0\n",
            "loss :  tensor(0.0014, grad_fn=<BinaryCrossEntropyBackward0>)  accuracy :  1.0\n",
            "loss :  tensor(0.0014, grad_fn=<BinaryCrossEntropyBackward0>)  accuracy :  1.0\n",
            "loss :  tensor(0.0014, grad_fn=<BinaryCrossEntropyBackward0>)  accuracy :  1.0\n",
            "loss :  tensor(0.0014, grad_fn=<BinaryCrossEntropyBackward0>)  accuracy :  1.0\n",
            "loss :  tensor(0.0014, grad_fn=<BinaryCrossEntropyBackward0>)  accuracy :  1.0\n",
            "loss :  tensor(0.0014, grad_fn=<BinaryCrossEntropyBackward0>)  accuracy :  1.0\n",
            "loss :  tensor(0.0014, grad_fn=<BinaryCrossEntropyBackward0>)  accuracy :  1.0\n",
            "loss :  tensor(0.0014, grad_fn=<BinaryCrossEntropyBackward0>)  accuracy :  1.0\n",
            "loss :  tensor(0.0014, grad_fn=<BinaryCrossEntropyBackward0>)  accuracy :  1.0\n",
            "loss :  tensor(0.0014, grad_fn=<BinaryCrossEntropyBackward0>)  accuracy :  1.0\n",
            "loss :  tensor(0.0014, grad_fn=<BinaryCrossEntropyBackward0>)  accuracy :  1.0\n",
            "loss :  tensor(0.0014, grad_fn=<BinaryCrossEntropyBackward0>)  accuracy :  1.0\n",
            "loss :  tensor(0.0014, grad_fn=<BinaryCrossEntropyBackward0>)  accuracy :  1.0\n",
            "loss :  tensor(0.0014, grad_fn=<BinaryCrossEntropyBackward0>)  accuracy :  1.0\n",
            "loss :  tensor(0.0014, grad_fn=<BinaryCrossEntropyBackward0>)  accuracy :  1.0\n",
            "loss :  tensor(0.0014, grad_fn=<BinaryCrossEntropyBackward0>)  accuracy :  1.0\n",
            "loss :  tensor(0.0014, grad_fn=<BinaryCrossEntropyBackward0>)  accuracy :  1.0\n",
            "loss :  tensor(0.0014, grad_fn=<BinaryCrossEntropyBackward0>)  accuracy :  1.0\n",
            "loss :  tensor(0.0014, grad_fn=<BinaryCrossEntropyBackward0>)  accuracy :  1.0\n",
            "loss :  tensor(0.0014, grad_fn=<BinaryCrossEntropyBackward0>)  accuracy :  1.0\n",
            "loss :  tensor(0.0014, grad_fn=<BinaryCrossEntropyBackward0>)  accuracy :  1.0\n",
            "loss :  tensor(0.0014, grad_fn=<BinaryCrossEntropyBackward0>)  accuracy :  1.0\n",
            "loss :  tensor(0.0014, grad_fn=<BinaryCrossEntropyBackward0>)  accuracy :  1.0\n",
            "loss :  tensor(0.0014, grad_fn=<BinaryCrossEntropyBackward0>)  accuracy :  1.0\n",
            "loss :  tensor(0.0014, grad_fn=<BinaryCrossEntropyBackward0>)  accuracy :  1.0\n",
            "loss :  tensor(0.0014, grad_fn=<BinaryCrossEntropyBackward0>)  accuracy :  1.0\n",
            "loss :  tensor(0.0014, grad_fn=<BinaryCrossEntropyBackward0>)  accuracy :  1.0\n",
            "loss :  tensor(0.0014, grad_fn=<BinaryCrossEntropyBackward0>)  accuracy :  1.0\n",
            "loss :  tensor(0.0014, grad_fn=<BinaryCrossEntropyBackward0>)  accuracy :  1.0\n",
            "loss :  tensor(0.0014, grad_fn=<BinaryCrossEntropyBackward0>)  accuracy :  1.0\n",
            "loss :  tensor(0.0014, grad_fn=<BinaryCrossEntropyBackward0>)  accuracy :  1.0\n",
            "loss :  tensor(0.0014, grad_fn=<BinaryCrossEntropyBackward0>)  accuracy :  1.0\n",
            "loss :  tensor(0.0014, grad_fn=<BinaryCrossEntropyBackward0>)  accuracy :  1.0\n",
            "loss :  tensor(0.0014, grad_fn=<BinaryCrossEntropyBackward0>)  accuracy :  1.0\n",
            "loss :  tensor(0.0014, grad_fn=<BinaryCrossEntropyBackward0>)  accuracy :  1.0\n",
            "loss :  tensor(0.0014, grad_fn=<BinaryCrossEntropyBackward0>)  accuracy :  1.0\n",
            "loss :  tensor(0.0014, grad_fn=<BinaryCrossEntropyBackward0>)  accuracy :  1.0\n"
          ]
        }
      ]
    },
    {
      "cell_type": "markdown",
      "metadata": {
        "id": "WX2PSXnTDiNi"
      },
      "source": [
        "## Visualize the final node embeddings\n",
        "Visualize your final embedding here!\n",
        "You can visually compare the figure with the previous embedding figure.\n",
        "After training, you should oberserve that the two classes are more evidently separated.\n",
        "This is a great sanitity check for your implementation as well."
      ]
    },
    {
      "cell_type": "code",
      "metadata": {
        "id": "MtNgl4VhYKow",
        "colab": {
          "base_uri": "https://localhost:8080/",
          "height": 522
        },
        "outputId": "fca9db8a-7d5c-442c-df6a-c67d5aa1f669"
      },
      "source": [
        "# Visualize the final learned embedding\n",
        "visualize_emb(emb)"
      ],
      "execution_count": 65,
      "outputs": [
        {
          "output_type": "display_data",
          "data": {
            "text/plain": [
              "<Figure size 600x600 with 1 Axes>"
            ],
            "image/png": "[encoded data removed]"
          },
          "metadata": {}
        }
      ]
    },
    {
      "cell_type": "markdown",
      "metadata": {
        "id": "FTNyrAoSVeq9"
      },
      "source": [
        "# Submission"
      ]
    },
    {
      "cell_type": "markdown",
      "metadata": {
        "id": "E_E7J_GkVhY_"
      },
      "source": [
        "In order to get credit, you must go submit your answers on Gradescope."
      ]
    }
  ]
}