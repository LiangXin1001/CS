{
  "nbformat": 4,
  "nbformat_minor": 0,
  "metadata": {
    "kernelspec": {
      "display_name": "Python 3",
      "language": "python",
      "name": "python3"
    },
    "language_info": {
      "codemirror_mode": {
        "name": "ipython",
        "version": 3
      },
      "file_extension": ".py",
      "mimetype": "text/x-python",
      "name": "python",
      "nbconvert_exporter": "python",
      "pygments_lexer": "ipython3",
      "version": "3.7.3"
    },
    "colab": {
      "provenance": [],
      "machine_shape": "hm",
      "include_colab_link": true
    },
    "accelerator": "GPU"
  },
  "cells": [
    {
      "cell_type": "markdown",
      "metadata": {
        "id": "view-in-github",
        "colab_type": "text"
      },
      "source": [
        "<a href=\"https://colab.research.google.com/github/LiangXin1001/CS/blob/main/CS224W_Colab2.ipynb\" target=\"_parent\"><img src=\"https://colab.research.google.com/assets/colab-badge.svg\" alt=\"Open In Colab\"/></a>"
      ]
    },
    {
      "cell_type": "markdown",
      "metadata": {
        "id": "XuXWJLEm2UWS"
      },
      "source": [
        "# **CS224W - Colab 2**"
      ]
    },
    {
      "cell_type": "markdown",
      "metadata": {
        "id": "8gzsP50bF6Gb"
      },
      "source": [
        "In Colab 2, we will work to construct our own graph neural network using PyTorch Geometric (PyG) and then apply that model on two Open Graph Benchmark (OGB) datasets. These two datasets will be used to benchmark your model's performance on two different graph-based tasks: 1) node property prediction, predicting properties of single nodes and 2) graph property prediction, predicting properties of entire graphs or subgraphs.\n",
        "\n",
        "First, we will learn how PyTorch Geometric stores graphs as PyTorch tensors.\n",
        "\n",
        "Then, we will load and inspect one of the Open Graph Benchmark (OGB) datasets by using the `ogb` package. OGB is a collection of realistic, large-scale, and diverse benchmark datasets for machine learning on graphs. The `ogb` package not only provides data loaders for each dataset but also model evaluators.\n",
        "\n",
        "Lastly, we will build our own graph neural network using PyTorch Geometric. We will then train and evaluate our model on the OGB node property prediction and graph property prediction tasks.\n",
        "\n",
        "**Note**: Make sure to **sequentially run all the cells in each section**, so that the intermediate variables / packages will carry over to the next cell\n",
        "\n",
        "We recommend you save a copy of this colab in your drive so you don't lose progress!\n",
        "\n",
        "The expected time to finish this Colab is 2 hours. However, debugging training loops can easily take a while. So, don't worry at all if it takes you longer! Have fun and good luck on Colab 2 :)"
      ]
    },
    {
      "cell_type": "markdown",
      "metadata": {
        "id": "ZGKqVEbbMEzf"
      },
      "source": [
        "# Device\n",
        "You might need to use a GPU for this Colab to run quickly.\n",
        "\n",
        "Please click `Runtime` and then `Change runtime type`. Then set the `hardware accelerator` to **GPU**."
      ]
    },
    {
      "cell_type": "markdown",
      "metadata": {
        "id": "OCK7krJdp4o8"
      },
      "source": [
        "# Setup\n",
        "As discussed in Colab 0, the installation of PyG on Colab can be a little bit tricky. First let us check which version of PyTorch you are running"
      ]
    },
    {
      "cell_type": "code",
      "metadata": {
        "id": "2vkP8pA1qBE5",
        "colab": {
          "base_uri": "https://localhost:8080/"
        },
        "outputId": "db7286da-fea3-43cb-a446-f694926ddaea"
      },
      "source": [
        "import torch\n",
        "import os\n",
        "print(\"PyTorch has version {}\".format(torch.__version__))"
      ],
      "execution_count": 80,
      "outputs": [
        {
          "output_type": "stream",
          "name": "stdout",
          "text": [
            "PyTorch has version 2.1.0+cu121\n"
          ]
        }
      ]
    },
    {
      "cell_type": "markdown",
      "metadata": {
        "id": "L6d22O6DqGSZ"
      },
      "source": [
        "Download the necessary packages for PyG. Make sure that your version of torch matches the output from the cell above. In case of any issues, more information can be found on the [PyG's installation page](https://pytorch-geometric.readthedocs.io/en/latest/notes/installation.html)."
      ]
    },
    {
      "cell_type": "code",
      "metadata": {
        "id": "zr8hfxJ-qRg2",
        "colab": {
          "base_uri": "https://localhost:8080/"
        },
        "outputId": "92192fa5-0caa-41b8-d683-9e6cef343a5a"
      },
      "source": [
        "# Install torch geometric\n",
        "if 'IS_GRADESCOPE_ENV' not in os.environ:\n",
        "  torch_version = str(torch.__version__)\n",
        "  scatter_src = f\"https://pytorch-geometric.com/whl/torch-{torch_version}.html\"\n",
        "  sparse_src = f\"https://pytorch-geometric.com/whl/torch-{torch_version}.html\"\n",
        "  !pip install torch-scatter -f $scatter_src\n",
        "  !pip install torch-sparse -f $sparse_src\n",
        "  !pip install torch-geometric\n",
        "  !pip install ogb"
      ],
      "execution_count": 81,
      "outputs": [
        {
          "output_type": "stream",
          "name": "stdout",
          "text": [
            "Looking in links: https://pytorch-geometric.com/whl/torch-2.1.0+cu121.html\n",
            "Requirement already satisfied: torch-scatter in /usr/local/lib/python3.10/dist-packages (2.1.2+pt21cu121)\n",
            "Looking in links: https://pytorch-geometric.com/whl/torch-2.1.0+cu121.html\n",
            "Requirement already satisfied: torch-sparse in /usr/local/lib/python3.10/dist-packages (0.6.18+pt21cu121)\n",
            "Requirement already satisfied: scipy in /usr/local/lib/python3.10/dist-packages (from torch-sparse) (1.11.4)\n",
            "Requirement already satisfied: numpy<1.28.0,>=1.21.6 in /usr/local/lib/python3.10/dist-packages (from scipy->torch-sparse) (1.25.2)\n",
            "Requirement already satisfied: torch-geometric in /usr/local/lib/python3.10/dist-packages (2.5.0)\n",
            "Requirement already satisfied: tqdm in /usr/local/lib/python3.10/dist-packages (from torch-geometric) (4.66.2)\n",
            "Requirement already satisfied: numpy in /usr/local/lib/python3.10/dist-packages (from torch-geometric) (1.25.2)\n",
            "Requirement already satisfied: scipy in /usr/local/lib/python3.10/dist-packages (from torch-geometric) (1.11.4)\n",
            "Requirement already satisfied: fsspec in /usr/local/lib/python3.10/dist-packages (from torch-geometric) (2023.6.0)\n",
            "Requirement already satisfied: jinja2 in /usr/local/lib/python3.10/dist-packages (from torch-geometric) (3.1.3)\n",
            "Requirement already satisfied: aiohttp in /usr/local/lib/python3.10/dist-packages (from torch-geometric) (3.9.3)\n",
            "Requirement already satisfied: requests in /usr/local/lib/python3.10/dist-packages (from torch-geometric) (2.31.0)\n",
            "Requirement already satisfied: pyparsing in /usr/local/lib/python3.10/dist-packages (from torch-geometric) (3.1.1)\n",
            "Requirement already satisfied: scikit-learn in /usr/local/lib/python3.10/dist-packages (from torch-geometric) (1.2.2)\n",
            "Requirement already satisfied: psutil>=5.8.0 in /usr/local/lib/python3.10/dist-packages (from torch-geometric) (5.9.5)\n",
            "Requirement already satisfied: aiosignal>=1.1.2 in /usr/local/lib/python3.10/dist-packages (from aiohttp->torch-geometric) (1.3.1)\n",
            "Requirement already satisfied: attrs>=17.3.0 in /usr/local/lib/python3.10/dist-packages (from aiohttp->torch-geometric) (23.2.0)\n",
            "Requirement already satisfied: frozenlist>=1.1.1 in /usr/local/lib/python3.10/dist-packages (from aiohttp->torch-geometric) (1.4.1)\n",
            "Requirement already satisfied: multidict<7.0,>=4.5 in /usr/local/lib/python3.10/dist-packages (from aiohttp->torch-geometric) (6.0.5)\n",
            "Requirement already satisfied: yarl<2.0,>=1.0 in /usr/local/lib/python3.10/dist-packages (from aiohttp->torch-geometric) (1.9.4)\n",
            "Requirement already satisfied: async-timeout<5.0,>=4.0 in /usr/local/lib/python3.10/dist-packages (from aiohttp->torch-geometric) (4.0.3)\n",
            "Requirement already satisfied: MarkupSafe>=2.0 in /usr/local/lib/python3.10/dist-packages (from jinja2->torch-geometric) (2.1.5)\n",
            "Requirement already satisfied: charset-normalizer<4,>=2 in /usr/local/lib/python3.10/dist-packages (from requests->torch-geometric) (3.3.2)\n",
            "Requirement already satisfied: idna<4,>=2.5 in /usr/local/lib/python3.10/dist-packages (from requests->torch-geometric) (3.6)\n",
            "Requirement already satisfied: urllib3<3,>=1.21.1 in /usr/local/lib/python3.10/dist-packages (from requests->torch-geometric) (2.0.7)\n",
            "Requirement already satisfied: certifi>=2017.4.17 in /usr/local/lib/python3.10/dist-packages (from requests->torch-geometric) (2024.2.2)\n",
            "Requirement already satisfied: joblib>=1.1.1 in /usr/local/lib/python3.10/dist-packages (from scikit-learn->torch-geometric) (1.3.2)\n",
            "Requirement already satisfied: threadpoolctl>=2.0.0 in /usr/local/lib/python3.10/dist-packages (from scikit-learn->torch-geometric) (3.2.0)\n",
            "Requirement already satisfied: ogb in /usr/local/lib/python3.10/dist-packages (1.3.6)\n",
            "Requirement already satisfied: torch>=1.6.0 in /usr/local/lib/python3.10/dist-packages (from ogb) (2.1.0+cu121)\n",
            "Requirement already satisfied: numpy>=1.16.0 in /usr/local/lib/python3.10/dist-packages (from ogb) (1.25.2)\n",
            "Requirement already satisfied: tqdm>=4.29.0 in /usr/local/lib/python3.10/dist-packages (from ogb) (4.66.2)\n",
            "Requirement already satisfied: scikit-learn>=0.20.0 in /usr/local/lib/python3.10/dist-packages (from ogb) (1.2.2)\n",
            "Requirement already satisfied: pandas>=0.24.0 in /usr/local/lib/python3.10/dist-packages (from ogb) (1.5.3)\n",
            "Requirement already satisfied: six>=1.12.0 in /usr/local/lib/python3.10/dist-packages (from ogb) (1.16.0)\n",
            "Requirement already satisfied: urllib3>=1.24.0 in /usr/local/lib/python3.10/dist-packages (from ogb) (2.0.7)\n",
            "Requirement already satisfied: outdated>=0.2.0 in /usr/local/lib/python3.10/dist-packages (from ogb) (0.2.2)\n",
            "Requirement already satisfied: setuptools>=44 in /usr/local/lib/python3.10/dist-packages (from outdated>=0.2.0->ogb) (67.7.2)\n",
            "Requirement already satisfied: littleutils in /usr/local/lib/python3.10/dist-packages (from outdated>=0.2.0->ogb) (0.2.2)\n",
            "Requirement already satisfied: requests in /usr/local/lib/python3.10/dist-packages (from outdated>=0.2.0->ogb) (2.31.0)\n",
            "Requirement already satisfied: python-dateutil>=2.8.1 in /usr/local/lib/python3.10/dist-packages (from pandas>=0.24.0->ogb) (2.8.2)\n",
            "Requirement already satisfied: pytz>=2020.1 in /usr/local/lib/python3.10/dist-packages (from pandas>=0.24.0->ogb) (2023.4)\n",
            "Requirement already satisfied: scipy>=1.3.2 in /usr/local/lib/python3.10/dist-packages (from scikit-learn>=0.20.0->ogb) (1.11.4)\n",
            "Requirement already satisfied: joblib>=1.1.1 in /usr/local/lib/python3.10/dist-packages (from scikit-learn>=0.20.0->ogb) (1.3.2)\n",
            "Requirement already satisfied: threadpoolctl>=2.0.0 in /usr/local/lib/python3.10/dist-packages (from scikit-learn>=0.20.0->ogb) (3.2.0)\n",
            "Requirement already satisfied: filelock in /usr/local/lib/python3.10/dist-packages (from torch>=1.6.0->ogb) (3.13.1)\n",
            "Requirement already satisfied: typing-extensions in /usr/local/lib/python3.10/dist-packages (from torch>=1.6.0->ogb) (4.9.0)\n",
            "Requirement already satisfied: sympy in /usr/local/lib/python3.10/dist-packages (from torch>=1.6.0->ogb) (1.12)\n",
            "Requirement already satisfied: networkx in /usr/local/lib/python3.10/dist-packages (from torch>=1.6.0->ogb) (3.2.1)\n",
            "Requirement already satisfied: jinja2 in /usr/local/lib/python3.10/dist-packages (from torch>=1.6.0->ogb) (3.1.3)\n",
            "Requirement already satisfied: fsspec in /usr/local/lib/python3.10/dist-packages (from torch>=1.6.0->ogb) (2023.6.0)\n",
            "Requirement already satisfied: triton==2.1.0 in /usr/local/lib/python3.10/dist-packages (from torch>=1.6.0->ogb) (2.1.0)\n",
            "Requirement already satisfied: MarkupSafe>=2.0 in /usr/local/lib/python3.10/dist-packages (from jinja2->torch>=1.6.0->ogb) (2.1.5)\n",
            "Requirement already satisfied: charset-normalizer<4,>=2 in /usr/local/lib/python3.10/dist-packages (from requests->outdated>=0.2.0->ogb) (3.3.2)\n",
            "Requirement already satisfied: idna<4,>=2.5 in /usr/local/lib/python3.10/dist-packages (from requests->outdated>=0.2.0->ogb) (3.6)\n",
            "Requirement already satisfied: certifi>=2017.4.17 in /usr/local/lib/python3.10/dist-packages (from requests->outdated>=0.2.0->ogb) (2024.2.2)\n",
            "Requirement already satisfied: mpmath>=0.19 in /usr/local/lib/python3.10/dist-packages (from sympy->torch>=1.6.0->ogb) (1.3.0)\n"
          ]
        }
      ]
    },
    {
      "cell_type": "markdown",
      "metadata": {
        "id": "Nwwq0nSdmsOL"
      },
      "source": [
        "# 1) PyTorch Geometric (Datasets and Data)\n"
      ]
    },
    {
      "cell_type": "markdown",
      "metadata": {
        "id": "Sf7vUmdNKCjA"
      },
      "source": [
        "PyTorch Geometric has two classes for storing and/or transforming graphs into tensor format. One is `torch_geometric.datasets`, which contains a variety of common graph datasets. Another is `torch_geometric.data`, which provides the data handling of graphs in PyTorch tensors.\n",
        "\n",
        "In this section, we will learn how to use `torch_geometric.datasets` and `torch_geometric.data` together."
      ]
    },
    {
      "cell_type": "markdown",
      "metadata": {
        "id": "ic-o1P3r6hr2"
      },
      "source": [
        "## PyG Datasets\n",
        "\n",
        "The `torch_geometric.datasets` class has many common graph datasets. Here we will explore its usage through one example dataset."
      ]
    },
    {
      "cell_type": "code",
      "metadata": {
        "id": "zT5qca3x6XpG",
        "colab": {
          "base_uri": "https://localhost:8080/"
        },
        "outputId": "0a03666e-52c6-4234-ffa0-a96901dcbdaa"
      },
      "source": [
        "from torch_geometric.datasets import TUDataset\n",
        "\n",
        "if 'IS_GRADESCOPE_ENV' not in os.environ:\n",
        "  root = './enzymes'\n",
        "  name = 'ENZYMES'\n",
        "\n",
        "  # The ENZYMES dataset\n",
        "  pyg_dataset= TUDataset(root, name)\n",
        "\n",
        "  # You will find that there are 600 graphs in this dataset\n",
        "  print(pyg_dataset)"
      ],
      "execution_count": 82,
      "outputs": [
        {
          "output_type": "stream",
          "name": "stdout",
          "text": [
            "ENZYMES(600)\n"
          ]
        }
      ]
    },
    {
      "cell_type": "markdown",
      "metadata": {
        "id": "NLm5vVYMAP2x"
      },
      "source": [
        "## Question 1: What is the number of classes and number of features in the ENZYMES dataset? (5 points)"
      ]
    },
    {
      "cell_type": "code",
      "metadata": {
        "id": "8iF_Kyqr_JbY",
        "colab": {
          "base_uri": "https://localhost:8080/"
        },
        "outputId": "11600c48-5002-4652-dba5-a70c39670bb9"
      },
      "source": [
        "def get_num_classes(pyg_dataset):\n",
        "  # TODO: Implement a function that takes a PyG dataset object\n",
        "  # and returns the number of classes for that dataset.\n",
        "\n",
        "  num_classes = 0\n",
        "\n",
        "  ############# Your code here ############\n",
        "  ## (~1 line of code)\n",
        "  ## Note\n",
        "  ## 1. Colab autocomplete functionality might be useful.\n",
        "  # 使用 PyG 数据集对象的 .num_classes 属性获取类别数量\n",
        "  num_classes = pyg_dataset.num_classes\n",
        "  #########################################\n",
        "\n",
        "  return num_classes\n",
        "\n",
        "def get_num_features(pyg_dataset):\n",
        "  # TODO: Implement a function that takes a PyG dataset object\n",
        "  # and returns the number of features for that dataset.\n",
        "\n",
        "  num_features = 0\n",
        "\n",
        "  ############# Your code here ############\n",
        "  ## (~1 line of code)\n",
        "  ## Note\n",
        "  ## 1. Colab autocomplete functionality might be useful.\n",
        "  num_features = pyg_dataset.num_features\n",
        "  #########################################\n",
        "\n",
        "  return num_features\n",
        "\n",
        "if 'IS_GRADESCOPE_ENV' not in os.environ:\n",
        "  num_classes = get_num_classes(pyg_dataset)\n",
        "  num_features = get_num_features(pyg_dataset)\n",
        "  print(\"{} dataset has {} classes\".format(name, num_classes))\n",
        "  print(\"{} dataset has {} features\".format(name, num_features))"
      ],
      "execution_count": 83,
      "outputs": [
        {
          "output_type": "stream",
          "name": "stdout",
          "text": [
            "ENZYMES dataset has 6 classes\n",
            "ENZYMES dataset has 3 features\n"
          ]
        }
      ]
    },
    {
      "cell_type": "markdown",
      "metadata": {
        "id": "rwKbzhHUAckZ"
      },
      "source": [
        "## PyG Data\n",
        "\n",
        "Each PyG dataset stores a list of `torch_geometric.data.Data` objects, where each `torch_geometric.data.Data` object represents a graph. We can easily get the `Data` object by indexing into the dataset.\n",
        "\n",
        "For more information such as what is stored in the `Data` object, please refer to the [documentation](https://pytorch-geometric.readthedocs.io/en/latest/modules/data.html#torch_geometric.data.Data)."
      ]
    },
    {
      "cell_type": "markdown",
      "metadata": {
        "id": "7sCV3xJWCddX"
      },
      "source": [
        "## Question 2: What is the label of the graph with index 100 in the ENZYMES dataset? (5 points)"
      ]
    },
    {
      "cell_type": "code",
      "metadata": {
        "id": "LIis9oTZAfs3",
        "colab": {
          "base_uri": "https://localhost:8080/"
        },
        "outputId": "cdc0ee84-8bb9-4c14-8030-6a12b82f0060"
      },
      "source": [
        "def get_graph_class(pyg_dataset, idx):\n",
        "  # TODO: Implement a function that takes a PyG dataset object,\n",
        "  # an index of a graph within the dataset, and returns the class/label\n",
        "  # of the graph (as an integer).\n",
        "\n",
        "  label = -1\n",
        "\n",
        "  ############# Your code here ############\n",
        "  ## (~1 line of code)\n",
        "    # 获取指定索引处图的标签\n",
        "  label = int(pyg_dataset[idx].y)\n",
        "  #########################################\n",
        "\n",
        "  return label\n",
        "\n",
        "# Here pyg_dataset is a dataset for graph classification\n",
        "if 'IS_GRADESCOPE_ENV' not in os.environ:\n",
        "  graph_0 = pyg_dataset[0]\n",
        "  print(\"graph_0\",graph_0)\n",
        "  idx = 100\n",
        "  label = get_graph_class(pyg_dataset, idx)\n",
        "  print(\"pyg_dataset len \", len(pyg_dataset))\n",
        "  print('Graph with index {} has label {}'.format(idx, label))"
      ],
      "execution_count": 84,
      "outputs": [
        {
          "output_type": "stream",
          "name": "stdout",
          "text": [
            "graph_0 Data(edge_index=[2, 168], x=[37, 3], y=[1])\n",
            "pyg_dataset len  600\n",
            "Graph with index 100 has label 4\n"
          ]
        }
      ]
    },
    {
      "cell_type": "markdown",
      "metadata": {
        "id": "fKhcVeAhCwoY"
      },
      "source": [
        "## Question 3: How many edges does the graph with index 200 have? (5 points)"
      ]
    },
    {
      "cell_type": "code",
      "metadata": {
        "id": "f5m2DOfhBtWv",
        "colab": {
          "base_uri": "https://localhost:8080/"
        },
        "outputId": "c968897e-787d-482b-ea36-21c0dfd57d16"
      },
      "source": [
        "def get_graph_num_edges(pyg_dataset, idx):\n",
        "  # TODO: Implement a function that takes a PyG dataset object,\n",
        "  # the index of a graph in the dataset, and returns the number of\n",
        "  # edges in the graph (as an integer). You should not count an edge\n",
        "  # twice if the graph is undirected. For example, in an undirected\n",
        "  # graph G, if two nodes v and u are connected by an edge, this edge\n",
        "  # should only be counted once.\n",
        "\n",
        "  num_edges = 0\n",
        "\n",
        "  ############# Your code here ############\n",
        "  ## Note:\n",
        "  ## 1. You can't return the data.num_edges directly\n",
        "  ## 2. We assume the graph is undirected\n",
        "  ## 3. Look at the PyG dataset built in functions\n",
        "  ## (~4 lines of code)\n",
        "  graph_data = pyg_dataset[idx]\n",
        "  edge_index = graph_data.edge_index\n",
        "  num_edges = edge_index.size(1) / 2\n",
        "\n",
        "  #########################################\n",
        "\n",
        "  return num_edges\n",
        "\n",
        "if 'IS_GRADESCOPE_ENV' not in os.environ:\n",
        "  idx = 200\n",
        "  num_edges = get_graph_num_edges(pyg_dataset, idx)\n",
        "  print('Graph with index {} has {} edges'.format(idx, num_edges))"
      ],
      "execution_count": 85,
      "outputs": [
        {
          "output_type": "stream",
          "name": "stdout",
          "text": [
            "Graph with index 200 has 53.0 edges\n"
          ]
        }
      ]
    },
    {
      "cell_type": "markdown",
      "metadata": {
        "id": "AXa7yIG4E0Fp"
      },
      "source": [
        "# 2) Open Graph Benchmark (OGB)\n",
        "\n",
        "The Open Graph Benchmark (OGB) is a collection of realistic, large-scale, and diverse benchmark datasets for machine learning on graphs. Its datasets are automatically downloaded, processed, and split using the OGB Data Loader. The model performance can then be evaluated by using the OGB Evaluator in a unified manner."
      ]
    },
    {
      "cell_type": "markdown",
      "metadata": {
        "id": "HnazPGGAJAZN"
      },
      "source": [
        "## Dataset and Data\n",
        "\n",
        "OGB also supports PyG dataset and data classes. Here we take a look on the `ogbn-arxiv` dataset."
      ]
    },
    {
      "cell_type": "code",
      "metadata": {
        "id": "Gpc6bTm3GF02",
        "colab": {
          "base_uri": "https://localhost:8080/"
        },
        "outputId": "ddd4150a-119f-40ad-d4b6-6645f4c6726e"
      },
      "source": [
        "import torch_geometric.transforms as T\n",
        "from ogb.nodeproppred import PygNodePropPredDataset\n",
        "\n",
        "if 'IS_GRADESCOPE_ENV' not in os.environ:\n",
        "  dataset_name = 'ogbn-arxiv'\n",
        "  # Load the dataset and transform it to sparse tensor\n",
        "  dataset = PygNodePropPredDataset(name=dataset_name,\n",
        "                                  transform=T.ToSparseTensor())\n",
        "  print('The {} dataset has {} graph'.format(dataset_name, len(dataset)))\n",
        "\n",
        "  # Extract the graph\n",
        "  data = dataset[0]\n",
        "  print(data)"
      ],
      "execution_count": 86,
      "outputs": [
        {
          "output_type": "stream",
          "name": "stdout",
          "text": [
            "The ogbn-arxiv dataset has 1 graph\n",
            "Data(num_nodes=169343, x=[169343, 128], node_year=[169343, 1], y=[169343, 1], adj_t=[169343, 169343, nnz=1166243])\n"
          ]
        }
      ]
    },
    {
      "cell_type": "markdown",
      "metadata": {
        "id": "Cw0xZJKZI-n3"
      },
      "source": [
        "## Question 4: How many features are in the ogbn-arxiv graph? (5 points)"
      ]
    },
    {
      "cell_type": "code",
      "metadata": {
        "id": "ZP844_nT2ZJl",
        "colab": {
          "base_uri": "https://localhost:8080/"
        },
        "outputId": "0dd29478-07b3-4775-bc96-fc838faaf4ae"
      },
      "source": [
        "def graph_num_features(data):\n",
        "  # TODO: Implement a function that takes a PyG data object,\n",
        "  # and returns the number of features in the graph (as an integer).\n",
        "\n",
        "  num_features = 0\n",
        "\n",
        "  ############# Your code here ############\n",
        "  ## (~1 line of code)\n",
        "  num_features = data.num_features\n",
        "  #########################################\n",
        "\n",
        "  return num_features\n",
        "\n",
        "if 'IS_GRADESCOPE_ENV' not in os.environ:\n",
        "  num_features = graph_num_features(data)\n",
        "  print('The graph has {} features'.format(num_features))"
      ],
      "execution_count": 87,
      "outputs": [
        {
          "output_type": "stream",
          "name": "stdout",
          "text": [
            "The graph has 128 features\n"
          ]
        }
      ]
    },
    {
      "cell_type": "markdown",
      "metadata": {
        "id": "9DP_yEQZ0NVW"
      },
      "source": [
        "# 3) GNN: Node Property Prediction\n",
        "\n",
        "In this section we will build our first graph neural network using PyTorch Geometric. Then we will apply it to the task of node property prediction (node classification).\n",
        "\n",
        "Specifically, we will use GCN as the foundation for your graph neural network ([Kipf et al. (2017)](https://arxiv.org/pdf/1609.02907.pdf)). To do so, we will work with PyG's built-in `GCNConv` layer."
      ]
    },
    {
      "cell_type": "markdown",
      "metadata": {
        "id": "O4CcOUEoInjD"
      },
      "source": [
        "## Setup"
      ]
    },
    {
      "cell_type": "code",
      "metadata": {
        "id": "-DCtgcHpGIpd",
        "colab": {
          "base_uri": "https://localhost:8080/"
        },
        "outputId": "89a257b3-297c-4538-900c-856f714fe1cd"
      },
      "source": [
        "import torch\n",
        "import pandas as pd\n",
        "import torch.nn.functional as F\n",
        "print(torch.__version__)\n",
        "\n",
        "# The PyG built-in GCNConv\n",
        "from torch_geometric.nn import GCNConv\n",
        "\n",
        "import torch_geometric.transforms as T\n",
        "from ogb.nodeproppred import PygNodePropPredDataset, Evaluator"
      ],
      "execution_count": 88,
      "outputs": [
        {
          "output_type": "stream",
          "name": "stdout",
          "text": [
            "2.1.0+cu121\n"
          ]
        }
      ]
    },
    {
      "cell_type": "markdown",
      "metadata": {
        "id": "0IK9z0wQIwzQ"
      },
      "source": [
        "## Load and Preprocess the Dataset"
      ]
    },
    {
      "cell_type": "code",
      "metadata": {
        "id": "0ibJ0ieoIwQM",
        "colab": {
          "base_uri": "https://localhost:8080/"
        },
        "outputId": "0d717cd7-1f6d-4967-f8f7-a3dd240ba176"
      },
      "source": [
        "if 'IS_GRADESCOPE_ENV' not in os.environ:\n",
        "  dataset_name = 'ogbn-arxiv'\n",
        "  dataset = PygNodePropPredDataset(name=dataset_name,\n",
        "                                  transform=T.ToSparseTensor())\n",
        "  data = dataset[0]\n",
        "\n",
        "  # Make the adjacency matrix to symmetric\n",
        "  data.adj_t = data.adj_t.to_symmetric()\n",
        "\n",
        "  device = 'cuda' if torch.cuda.is_available() else 'cpu'\n",
        "\n",
        "  # If you use GPU, the device should be cuda\n",
        "  print('Device: {}'.format(device))\n",
        "\n",
        "  data = data.to(device)\n",
        "  split_idx = dataset.get_idx_split()\n",
        "  train_idx = split_idx['train'].to(device)"
      ],
      "execution_count": 89,
      "outputs": [
        {
          "output_type": "stream",
          "name": "stdout",
          "text": [
            "Device: cuda\n"
          ]
        }
      ]
    },
    {
      "cell_type": "markdown",
      "metadata": {
        "id": "OgUA815bNJ8w"
      },
      "source": [
        "## GCN Model\n",
        "\n",
        "Now we will implement our GCN model!\n",
        "\n",
        "Please follow the figure below to implement the `forward` function.\n",
        "\n",
        "\n",
        "![test](https://drive.google.com/uc?id=128AuYAXNXGg7PIhJJ7e420DoPWKb-RtL)"
      ]
    },
    {
      "cell_type": "code",
      "metadata": {
        "id": "IgspXTYpNJLA"
      },
      "source": [
        "import torch\n",
        "from torch_geometric.nn import GCNConv\n",
        "from torch.nn import ModuleList, BatchNorm1d, LogSoftmax\n",
        "\n",
        "class GCN(torch.nn.Module):\n",
        "    def __init__(self, input_dim, hidden_dim, output_dim, num_layers,\n",
        "                 dropout, return_embeds=False):\n",
        "        # TODO: Implement a function that initializes self.convs,\n",
        "        # self.bns, and self.softmax.\n",
        "\n",
        "        super(GCN, self).__init__()\n",
        "\n",
        "        # A list of GCNConv layers\n",
        "        self.convs = None\n",
        "\n",
        "        # A list of 1D batch normalization layers\n",
        "        self.bns = None\n",
        "\n",
        "        # The log softmax layer\n",
        "        self.softmax = None\n",
        "\n",
        "        ############# Your code here ############\n",
        "        ## Note:\n",
        "        ## 1. You should use torch.nn.ModuleList for self.convs and self.bns\n",
        "        ## 2. self.convs has num_layers GCNConv layers\n",
        "        ## 3. self.bns has num_layers - 1 BatchNorm1d layers\n",
        "        ## 4. You should use torch.nn.LogSoftmax for self.softmax\n",
        "        ## 5. The parameters you can set for GCNConv include 'in_channels' and\n",
        "        ## 'out_channels'. For more information please refer to the documentation:\n",
        "        ## https://pytorch-geometric.readthedocs.io/en/latest/modules/nn.html#torch_geometric.nn.conv.GCNConv\n",
        "        ## 6. The only parameter you need to set for BatchNorm1d is 'num_features'\n",
        "        ## For more information please refer to the documentation:\n",
        "        ## https://pytorch.org/docs/stable/generated/torch.nn.BatchNorm1d.html\n",
        "        ## (~10 lines of code)\n",
        "        #Initialize the GCNConv layers\n",
        "        self.convs = ModuleList()\n",
        "        self.convs.append(GCNConv(input_dim,hidden_dim))\n",
        "        for _ in range(num_layers -2 ):\n",
        "          self.convs.append(GCNConv(hidden_dim,hidden_dim))\n",
        "        self.convs.append(GCNConv(hidden_dim,output_dim))\n",
        "\n",
        "        #Initialize the batch normalization layers\n",
        "        self.bns =  ModuleList()\n",
        "        for _ in range(num_layers - 1):\n",
        "          self.bns.append(BatchNorm1d(hidden_dim))\n",
        "\n",
        "        self.softmax = LogSoftmax(dim=1)\n",
        "        #########################################\n",
        "\n",
        "        # Probability of an element getting zeroed\n",
        "        self.dropout = dropout\n",
        "\n",
        "        # Skip classification layer and return node embeddings\n",
        "        self.return_embeds = return_embeds\n",
        "\n",
        "    def reset_parameters(self):\n",
        "        for conv in self.convs:\n",
        "            conv.reset_parameters()\n",
        "        for bn in self.bns:\n",
        "            bn.reset_parameters()\n",
        "\n",
        "    def forward(self, x, adj_t):\n",
        "        # TODO: Implement a function that takes the feature tensor x and\n",
        "        # edge_index tensor adj_t and returns the output tensor as\n",
        "        # shown in the figure.\n",
        "\n",
        "        out = None\n",
        "\n",
        "        ############# Your code here ############\n",
        "        ## Note:\n",
        "        ## 1. Construct the network as shown in the figure\n",
        "        ## 2. torch.nn.functional.relu and torch.nn.functional.dropout are useful\n",
        "        ## For more information please refer to the documentation:\n",
        "        ## https://pytorch.org/docs/stable/nn.functional.html\n",
        "        ## 3. Don't forget to set F.dropout training to self.training\n",
        "        ## 4. If return_embeds is True, then skip the last softmax layer\n",
        "        ## (~7 lines of code)\n",
        "        for i in range(len(self.convs) - 1):\n",
        "          x = self.convs[i](x , adj_t)\n",
        "          x = self.bns[i](x)\n",
        "          x = F.relu(x)\n",
        "          x = F.dropout(x, p= self.dropout, training=self.training )\n",
        "\n",
        "        x = self.convs[-1](x,adj_t)\n",
        "        if self.return_embeds :\n",
        "          return x\n",
        "        out = self.softmax(x)\n",
        "        #########################################\n",
        "\n",
        "        return out"
      ],
      "execution_count": 90,
      "outputs": []
    },
    {
      "cell_type": "code",
      "metadata": {
        "id": "FF1hnHUhO81e"
      },
      "source": [
        "def train(model, data, train_idx, optimizer, loss_fn):\n",
        "    # TODO: Implement a function that trains the model by\n",
        "    # using the given optimizer and loss_fn.\n",
        "    model.train()\n",
        "    loss = 0\n",
        "    print(\"Target tensor shape:\", data.y[train_idx].shape)\n",
        "    ############# Your code here ############\n",
        "    ## Note:\n",
        "    ## 1. Zero grad the optimizer\n",
        "    ## 2. Feed the data into the model\n",
        "    ## 3. Slice the model output and label by train_idx\n",
        "    ## 4. Feed the sliced output and label to loss_fn\n",
        "    ## (~4 lines of code)\n",
        "    optimizer.zero_grad()\n",
        "    # Forward pass: Compute predicted y by passing data to the model\n",
        "    pred = model(data.x, data.adj_t)\n",
        "    target = data.y[train_idx].squeeze()  # 这里应用了.squeeze()方法\n",
        "    print(\"Squeezed target tensor shape:\", target.shape)  # 打印调整后的形状确认\n",
        "     # Compute and print loss using only the nodes indexed by train_idx\n",
        "    loss = loss_fn(pred[train_idx], target)\n",
        "\n",
        "    #########################################\n",
        "\n",
        "    loss.backward()\n",
        "    optimizer.step()\n",
        "\n",
        "    return loss.item()"
      ],
      "execution_count": 91,
      "outputs": []
    },
    {
      "cell_type": "code",
      "metadata": {
        "id": "aJdlrJQhPBsK"
      },
      "source": [
        "# Test function here\n",
        "@torch.no_grad()\n",
        "def test(model, data, split_idx, evaluator, save_model_results=False):\n",
        "    # TODO: Implement a function that tests the model by\n",
        "    # using the given split_idx and evaluator.\n",
        "    model.eval()\n",
        "\n",
        "    # The output of model on all data\n",
        "    out = None\n",
        "\n",
        "    ############# Your code here ############\n",
        "    ## (~1 line of code)\n",
        "    ## Note:\n",
        "    ## 1. No index slicing here\n",
        "    out = model(data.x, data.adj_t)\n",
        "    #########################################\n",
        "\n",
        "    y_pred = out.argmax(dim=-1, keepdim=True)\n",
        "\n",
        "    train_acc = evaluator.eval({\n",
        "        'y_true': data.y[split_idx['train']],\n",
        "        'y_pred': y_pred[split_idx['train']],\n",
        "    })['acc']\n",
        "    valid_acc = evaluator.eval({\n",
        "        'y_true': data.y[split_idx['valid']],\n",
        "        'y_pred': y_pred[split_idx['valid']],\n",
        "    })['acc']\n",
        "    test_acc = evaluator.eval({\n",
        "        'y_true': data.y[split_idx['test']],\n",
        "        'y_pred': y_pred[split_idx['test']],\n",
        "    })['acc']\n",
        "\n",
        "    if save_model_results:\n",
        "      print (\"Saving Model Predictions\")\n",
        "\n",
        "      data = {}\n",
        "      data['y_pred'] = y_pred.view(-1).cpu().detach().numpy()\n",
        "\n",
        "      df = pd.DataFrame(data=data)\n",
        "      # Save locally as csv\n",
        "      df.to_csv('ogbn-arxiv_node.csv', sep=',', index=False)\n",
        "\n",
        "\n",
        "    return train_acc, valid_acc, test_acc"
      ],
      "execution_count": 92,
      "outputs": []
    },
    {
      "cell_type": "code",
      "metadata": {
        "id": "o7F46xkuLiOL"
      },
      "source": [
        "# Please do not change the args\n",
        "if 'IS_GRADESCOPE_ENV' not in os.environ:\n",
        "  args = {\n",
        "      'device': device,\n",
        "      'num_layers': 3,\n",
        "      'hidden_dim': 256,\n",
        "      'dropout': 0.5,\n",
        "      'lr': 0.01,\n",
        "      'epochs': 100,\n",
        "  }\n",
        "  args"
      ],
      "execution_count": 93,
      "outputs": []
    },
    {
      "cell_type": "code",
      "metadata": {
        "id": "dT8RyM2cPGxM"
      },
      "source": [
        "if 'IS_GRADESCOPE_ENV' not in os.environ:\n",
        "  model = GCN(data.num_features, args['hidden_dim'],\n",
        "              dataset.num_classes, args['num_layers'],\n",
        "              args['dropout']).to(device)\n",
        "  evaluator = Evaluator(name='ogbn-arxiv')"
      ],
      "execution_count": 94,
      "outputs": []
    },
    {
      "cell_type": "code",
      "metadata": {
        "id": "qd5O5cnPPdVF",
        "colab": {
          "base_uri": "https://localhost:8080/"
        },
        "outputId": "a63ed276-83ac-485b-9d13-3c70ba782520"
      },
      "source": [
        "# Please do not change these args\n",
        "# Training should take <10min using GPU runtime\n",
        "import copy\n",
        "if 'IS_GRADESCOPE_ENV' not in os.environ:\n",
        "  # reset the parameters to initial random value\n",
        "  model.reset_parameters()\n",
        "\n",
        "  optimizer = torch.optim.Adam(model.parameters(), lr=args['lr'])\n",
        "  loss_fn = F.nll_loss\n",
        "\n",
        "  best_model = None\n",
        "  best_valid_acc = 0\n",
        "\n",
        "  for epoch in range(1, 1 + args[\"epochs\"]):\n",
        "    loss = train(model, data, train_idx, optimizer, loss_fn)\n",
        "    result = test(model, data, split_idx, evaluator)\n",
        "    train_acc, valid_acc, test_acc = result\n",
        "    if valid_acc > best_valid_acc:\n",
        "        best_valid_acc = valid_acc\n",
        "        best_model = copy.deepcopy(model)\n",
        "    print(f'Epoch: {epoch:02d}, '\n",
        "          f'Loss: {loss:.4f}, '\n",
        "          f'Train: {100 * train_acc:.2f}%, '\n",
        "          f'Valid: {100 * valid_acc:.2f}% '\n",
        "          f'Test: {100 * test_acc:.2f}%')"
      ],
      "execution_count": 95,
      "outputs": [
        {
          "output_type": "stream",
          "name": "stdout",
          "text": [
            "Target tensor shape: torch.Size([90941, 1])\n",
            "Squeezed target tensor shape: torch.Size([90941])\n",
            "Epoch: 01, Loss: 4.1622, Train: 22.89%, Valid: 27.19% Test: 24.45%\n",
            "Target tensor shape: torch.Size([90941, 1])\n",
            "Squeezed target tensor shape: torch.Size([90941])\n",
            "Epoch: 02, Loss: 2.3509, Train: 28.11%, Valid: 25.03% Test: 29.59%\n",
            "Target tensor shape: torch.Size([90941, 1])\n",
            "Squeezed target tensor shape: torch.Size([90941])\n",
            "Epoch: 03, Loss: 1.9232, Train: 30.99%, Valid: 30.71% Test: 35.21%\n",
            "Target tensor shape: torch.Size([90941, 1])\n",
            "Squeezed target tensor shape: torch.Size([90941])\n",
            "Epoch: 04, Loss: 1.7629, Train: 32.24%, Valid: 33.62% Test: 35.24%\n",
            "Target tensor shape: torch.Size([90941, 1])\n",
            "Squeezed target tensor shape: torch.Size([90941])\n",
            "Epoch: 05, Loss: 1.6531, Train: 33.11%, Valid: 34.27% Test: 33.58%\n",
            "Target tensor shape: torch.Size([90941, 1])\n",
            "Squeezed target tensor shape: torch.Size([90941])\n",
            "Epoch: 06, Loss: 1.5715, Train: 33.37%, Valid: 31.43% Test: 31.76%\n",
            "Target tensor shape: torch.Size([90941, 1])\n",
            "Squeezed target tensor shape: torch.Size([90941])\n",
            "Epoch: 07, Loss: 1.5032, Train: 36.26%, Valid: 30.67% Test: 32.67%\n",
            "Target tensor shape: torch.Size([90941, 1])\n",
            "Squeezed target tensor shape: torch.Size([90941])\n",
            "Epoch: 08, Loss: 1.4528, Train: 40.18%, Valid: 32.87% Test: 36.70%\n",
            "Target tensor shape: torch.Size([90941, 1])\n",
            "Squeezed target tensor shape: torch.Size([90941])\n",
            "Epoch: 09, Loss: 1.4055, Train: 41.53%, Valid: 32.92% Test: 37.59%\n",
            "Target tensor shape: torch.Size([90941, 1])\n",
            "Squeezed target tensor shape: torch.Size([90941])\n",
            "Epoch: 10, Loss: 1.3661, Train: 42.27%, Valid: 35.14% Test: 40.21%\n",
            "Target tensor shape: torch.Size([90941, 1])\n",
            "Squeezed target tensor shape: torch.Size([90941])\n",
            "Epoch: 11, Loss: 1.3359, Train: 43.65%, Valid: 38.54% Test: 43.60%\n",
            "Target tensor shape: torch.Size([90941, 1])\n",
            "Squeezed target tensor shape: torch.Size([90941])\n",
            "Epoch: 12, Loss: 1.3117, Train: 44.82%, Valid: 38.91% Test: 43.40%\n",
            "Target tensor shape: torch.Size([90941, 1])\n",
            "Squeezed target tensor shape: torch.Size([90941])\n",
            "Epoch: 13, Loss: 1.2805, Train: 45.61%, Valid: 39.04% Test: 42.86%\n",
            "Target tensor shape: torch.Size([90941, 1])\n",
            "Squeezed target tensor shape: torch.Size([90941])\n",
            "Epoch: 14, Loss: 1.2592, Train: 46.35%, Valid: 38.89% Test: 41.87%\n",
            "Target tensor shape: torch.Size([90941, 1])\n",
            "Squeezed target tensor shape: torch.Size([90941])\n",
            "Epoch: 15, Loss: 1.2428, Train: 46.84%, Valid: 39.11% Test: 41.89%\n",
            "Target tensor shape: torch.Size([90941, 1])\n",
            "Squeezed target tensor shape: torch.Size([90941])\n",
            "Epoch: 16, Loss: 1.2278, Train: 47.75%, Valid: 41.56% Test: 44.93%\n",
            "Target tensor shape: torch.Size([90941, 1])\n",
            "Squeezed target tensor shape: torch.Size([90941])\n",
            "Epoch: 17, Loss: 1.2119, Train: 49.73%, Valid: 46.07% Test: 49.86%\n",
            "Target tensor shape: torch.Size([90941, 1])\n",
            "Squeezed target tensor shape: torch.Size([90941])\n",
            "Epoch: 18, Loss: 1.1997, Train: 51.92%, Valid: 50.17% Test: 53.84%\n",
            "Target tensor shape: torch.Size([90941, 1])\n",
            "Squeezed target tensor shape: torch.Size([90941])\n",
            "Epoch: 19, Loss: 1.1852, Train: 53.70%, Valid: 52.65% Test: 56.17%\n",
            "Target tensor shape: torch.Size([90941, 1])\n",
            "Squeezed target tensor shape: torch.Size([90941])\n",
            "Epoch: 20, Loss: 1.1704, Train: 54.71%, Valid: 53.95% Test: 57.38%\n",
            "Target tensor shape: torch.Size([90941, 1])\n",
            "Squeezed target tensor shape: torch.Size([90941])\n",
            "Epoch: 21, Loss: 1.1611, Train: 55.44%, Valid: 54.32% Test: 57.66%\n",
            "Target tensor shape: torch.Size([90941, 1])\n",
            "Squeezed target tensor shape: torch.Size([90941])\n",
            "Epoch: 22, Loss: 1.1539, Train: 56.04%, Valid: 54.63% Test: 57.78%\n",
            "Target tensor shape: torch.Size([90941, 1])\n",
            "Squeezed target tensor shape: torch.Size([90941])\n",
            "Epoch: 23, Loss: 1.1449, Train: 56.95%, Valid: 55.61% Test: 58.61%\n",
            "Target tensor shape: torch.Size([90941, 1])\n",
            "Squeezed target tensor shape: torch.Size([90941])\n",
            "Epoch: 24, Loss: 1.1317, Train: 57.73%, Valid: 56.56% Test: 59.37%\n",
            "Target tensor shape: torch.Size([90941, 1])\n",
            "Squeezed target tensor shape: torch.Size([90941])\n",
            "Epoch: 25, Loss: 1.1274, Train: 59.15%, Valid: 58.17% Test: 60.94%\n",
            "Target tensor shape: torch.Size([90941, 1])\n",
            "Squeezed target tensor shape: torch.Size([90941])\n",
            "Epoch: 26, Loss: 1.1173, Train: 60.88%, Valid: 60.43% Test: 62.82%\n",
            "Target tensor shape: torch.Size([90941, 1])\n",
            "Squeezed target tensor shape: torch.Size([90941])\n",
            "Epoch: 27, Loss: 1.1137, Train: 62.53%, Valid: 62.52% Test: 64.48%\n",
            "Target tensor shape: torch.Size([90941, 1])\n",
            "Squeezed target tensor shape: torch.Size([90941])\n",
            "Epoch: 28, Loss: 1.1069, Train: 63.93%, Valid: 64.33% Test: 65.61%\n",
            "Target tensor shape: torch.Size([90941, 1])\n",
            "Squeezed target tensor shape: torch.Size([90941])\n",
            "Epoch: 29, Loss: 1.0994, Train: 65.07%, Valid: 65.55% Test: 66.40%\n",
            "Target tensor shape: torch.Size([90941, 1])\n",
            "Squeezed target tensor shape: torch.Size([90941])\n",
            "Epoch: 30, Loss: 1.0906, Train: 66.01%, Valid: 66.35% Test: 66.90%\n",
            "Target tensor shape: torch.Size([90941, 1])\n",
            "Squeezed target tensor shape: torch.Size([90941])\n",
            "Epoch: 31, Loss: 1.0859, Train: 66.57%, Valid: 66.68% Test: 67.09%\n",
            "Target tensor shape: torch.Size([90941, 1])\n",
            "Squeezed target tensor shape: torch.Size([90941])\n",
            "Epoch: 32, Loss: 1.0804, Train: 66.99%, Valid: 67.04% Test: 67.38%\n",
            "Target tensor shape: torch.Size([90941, 1])\n",
            "Squeezed target tensor shape: torch.Size([90941])\n",
            "Epoch: 33, Loss: 1.0765, Train: 67.33%, Valid: 67.28% Test: 67.69%\n",
            "Target tensor shape: torch.Size([90941, 1])\n",
            "Squeezed target tensor shape: torch.Size([90941])\n",
            "Epoch: 34, Loss: 1.0704, Train: 67.51%, Valid: 67.49% Test: 67.82%\n",
            "Target tensor shape: torch.Size([90941, 1])\n",
            "Squeezed target tensor shape: torch.Size([90941])\n",
            "Epoch: 35, Loss: 1.0653, Train: 67.69%, Valid: 67.61% Test: 67.85%\n",
            "Target tensor shape: torch.Size([90941, 1])\n",
            "Squeezed target tensor shape: torch.Size([90941])\n",
            "Epoch: 36, Loss: 1.0623, Train: 67.90%, Valid: 67.70% Test: 68.06%\n",
            "Target tensor shape: torch.Size([90941, 1])\n",
            "Squeezed target tensor shape: torch.Size([90941])\n",
            "Epoch: 37, Loss: 1.0581, Train: 68.17%, Valid: 68.14% Test: 68.36%\n",
            "Target tensor shape: torch.Size([90941, 1])\n",
            "Squeezed target tensor shape: torch.Size([90941])\n",
            "Epoch: 38, Loss: 1.0508, Train: 68.50%, Valid: 68.50% Test: 68.75%\n",
            "Target tensor shape: torch.Size([90941, 1])\n",
            "Squeezed target tensor shape: torch.Size([90941])\n",
            "Epoch: 39, Loss: 1.0497, Train: 68.89%, Valid: 69.00% Test: 69.03%\n",
            "Target tensor shape: torch.Size([90941, 1])\n",
            "Squeezed target tensor shape: torch.Size([90941])\n",
            "Epoch: 40, Loss: 1.0435, Train: 69.36%, Valid: 69.46% Test: 69.32%\n",
            "Target tensor shape: torch.Size([90941, 1])\n",
            "Squeezed target tensor shape: torch.Size([90941])\n",
            "Epoch: 41, Loss: 1.0403, Train: 69.79%, Valid: 69.66% Test: 69.45%\n",
            "Target tensor shape: torch.Size([90941, 1])\n",
            "Squeezed target tensor shape: torch.Size([90941])\n",
            "Epoch: 42, Loss: 1.0366, Train: 70.03%, Valid: 69.77% Test: 69.46%\n",
            "Target tensor shape: torch.Size([90941, 1])\n",
            "Squeezed target tensor shape: torch.Size([90941])\n",
            "Epoch: 43, Loss: 1.0339, Train: 70.06%, Valid: 69.82% Test: 69.56%\n",
            "Target tensor shape: torch.Size([90941, 1])\n",
            "Squeezed target tensor shape: torch.Size([90941])\n",
            "Epoch: 44, Loss: 1.0287, Train: 70.03%, Valid: 69.73% Test: 69.59%\n",
            "Target tensor shape: torch.Size([90941, 1])\n",
            "Squeezed target tensor shape: torch.Size([90941])\n",
            "Epoch: 45, Loss: 1.0268, Train: 69.93%, Valid: 69.58% Test: 69.62%\n",
            "Target tensor shape: torch.Size([90941, 1])\n",
            "Squeezed target tensor shape: torch.Size([90941])\n",
            "Epoch: 46, Loss: 1.0225, Train: 69.95%, Valid: 69.55% Test: 69.59%\n",
            "Target tensor shape: torch.Size([90941, 1])\n",
            "Squeezed target tensor shape: torch.Size([90941])\n",
            "Epoch: 47, Loss: 1.0196, Train: 70.09%, Valid: 69.53% Test: 69.55%\n",
            "Target tensor shape: torch.Size([90941, 1])\n",
            "Squeezed target tensor shape: torch.Size([90941])\n",
            "Epoch: 48, Loss: 1.0123, Train: 70.31%, Valid: 69.70% Test: 69.49%\n",
            "Target tensor shape: torch.Size([90941, 1])\n",
            "Squeezed target tensor shape: torch.Size([90941])\n",
            "Epoch: 49, Loss: 1.0089, Train: 70.53%, Valid: 69.64% Test: 69.43%\n",
            "Target tensor shape: torch.Size([90941, 1])\n",
            "Squeezed target tensor shape: torch.Size([90941])\n",
            "Epoch: 50, Loss: 1.0098, Train: 70.76%, Valid: 69.82% Test: 69.59%\n",
            "Target tensor shape: torch.Size([90941, 1])\n",
            "Squeezed target tensor shape: torch.Size([90941])\n",
            "Epoch: 51, Loss: 1.0067, Train: 71.10%, Valid: 70.31% Test: 70.03%\n",
            "Target tensor shape: torch.Size([90941, 1])\n",
            "Squeezed target tensor shape: torch.Size([90941])\n",
            "Epoch: 52, Loss: 1.0026, Train: 71.23%, Valid: 70.59% Test: 70.15%\n",
            "Target tensor shape: torch.Size([90941, 1])\n",
            "Squeezed target tensor shape: torch.Size([90941])\n",
            "Epoch: 53, Loss: 0.9987, Train: 71.27%, Valid: 70.66% Test: 70.29%\n",
            "Target tensor shape: torch.Size([90941, 1])\n",
            "Squeezed target tensor shape: torch.Size([90941])\n",
            "Epoch: 54, Loss: 0.9977, Train: 71.23%, Valid: 70.59% Test: 70.41%\n",
            "Target tensor shape: torch.Size([90941, 1])\n",
            "Squeezed target tensor shape: torch.Size([90941])\n",
            "Epoch: 55, Loss: 0.9960, Train: 71.26%, Valid: 70.49% Test: 70.26%\n",
            "Target tensor shape: torch.Size([90941, 1])\n",
            "Squeezed target tensor shape: torch.Size([90941])\n",
            "Epoch: 57, Loss: 0.9883, Train: 71.52%, Valid: 70.38% Test: 69.67%\n",
            "Target tensor shape: torch.Size([90941, 1])\n",
            "Squeezed target tensor shape: torch.Size([90941])\n",
            "Epoch: 58, Loss: 0.9836, Train: 71.77%, Valid: 70.34% Test: 69.15%\n",
            "Target tensor shape: torch.Size([90941, 1])\n",
            "Squeezed target tensor shape: torch.Size([90941])\n",
            "Epoch: 59, Loss: 0.9834, Train: 71.84%, Valid: 70.30% Test: 69.10%\n",
            "Target tensor shape: torch.Size([90941, 1])\n",
            "Squeezed target tensor shape: torch.Size([90941])\n",
            "Epoch: 60, Loss: 0.9802, Train: 71.79%, Valid: 70.61% Test: 69.82%\n",
            "Target tensor shape: torch.Size([90941, 1])\n",
            "Squeezed target tensor shape: torch.Size([90941])\n",
            "Epoch: 61, Loss: 0.9807, Train: 71.85%, Valid: 70.69% Test: 70.08%\n",
            "Target tensor shape: torch.Size([90941, 1])\n",
            "Squeezed target tensor shape: torch.Size([90941])\n",
            "Epoch: 62, Loss: 0.9770, Train: 71.99%, Valid: 70.72% Test: 69.74%\n",
            "Target tensor shape: torch.Size([90941, 1])\n",
            "Squeezed target tensor shape: torch.Size([90941])\n",
            "Epoch: 63, Loss: 0.9766, Train: 72.01%, Valid: 70.49% Test: 69.21%\n",
            "Target tensor shape: torch.Size([90941, 1])\n",
            "Squeezed target tensor shape: torch.Size([90941])\n",
            "Epoch: 64, Loss: 0.9738, Train: 72.00%, Valid: 70.38% Test: 69.02%\n",
            "Target tensor shape: torch.Size([90941, 1])\n",
            "Squeezed target tensor shape: torch.Size([90941])\n",
            "Epoch: 65, Loss: 0.9740, Train: 72.07%, Valid: 70.53% Test: 69.48%\n",
            "Target tensor shape: torch.Size([90941, 1])\n",
            "Squeezed target tensor shape: torch.Size([90941])\n",
            "Epoch: 66, Loss: 0.9695, Train: 72.17%, Valid: 70.84% Test: 69.95%\n",
            "Target tensor shape: torch.Size([90941, 1])\n",
            "Squeezed target tensor shape: torch.Size([90941])\n",
            "Epoch: 67, Loss: 0.9681, Train: 72.31%, Valid: 70.98% Test: 70.13%\n",
            "Target tensor shape: torch.Size([90941, 1])\n",
            "Squeezed target tensor shape: torch.Size([90941])\n",
            "Epoch: 68, Loss: 0.9653, Train: 72.41%, Valid: 70.91% Test: 69.68%\n",
            "Target tensor shape: torch.Size([90941, 1])\n",
            "Squeezed target tensor shape: torch.Size([90941])\n",
            "Epoch: 69, Loss: 0.9630, Train: 72.55%, Valid: 71.02% Test: 69.85%\n",
            "Target tensor shape: torch.Size([90941, 1])\n",
            "Squeezed target tensor shape: torch.Size([90941])\n",
            "Epoch: 70, Loss: 0.9635, Train: 72.71%, Valid: 71.43% Test: 70.72%\n",
            "Target tensor shape: torch.Size([90941, 1])\n",
            "Squeezed target tensor shape: torch.Size([90941])\n",
            "Epoch: 71, Loss: 0.9596, Train: 72.64%, Valid: 71.43% Test: 70.96%\n",
            "Target tensor shape: torch.Size([90941, 1])\n",
            "Squeezed target tensor shape: torch.Size([90941])\n",
            "Epoch: 72, Loss: 0.9567, Train: 72.56%, Valid: 71.32% Test: 70.90%\n",
            "Target tensor shape: torch.Size([90941, 1])\n",
            "Squeezed target tensor shape: torch.Size([90941])\n",
            "Epoch: 73, Loss: 0.9557, Train: 72.64%, Valid: 71.37% Test: 70.82%\n",
            "Target tensor shape: torch.Size([90941, 1])\n",
            "Squeezed target tensor shape: torch.Size([90941])\n",
            "Epoch: 74, Loss: 0.9537, Train: 72.69%, Valid: 71.41% Test: 70.90%\n",
            "Target tensor shape: torch.Size([90941, 1])\n",
            "Squeezed target tensor shape: torch.Size([90941])\n",
            "Epoch: 75, Loss: 0.9524, Train: 72.74%, Valid: 71.39% Test: 70.88%\n",
            "Target tensor shape: torch.Size([90941, 1])\n",
            "Squeezed target tensor shape: torch.Size([90941])\n",
            "Epoch: 76, Loss: 0.9509, Train: 72.75%, Valid: 71.09% Test: 70.25%\n",
            "Target tensor shape: torch.Size([90941, 1])\n",
            "Squeezed target tensor shape: torch.Size([90941])\n",
            "Epoch: 77, Loss: 0.9482, Train: 72.77%, Valid: 70.82% Test: 69.71%\n",
            "Target tensor shape: torch.Size([90941, 1])\n",
            "Squeezed target tensor shape: torch.Size([90941])\n",
            "Epoch: 78, Loss: 0.9438, Train: 72.67%, Valid: 70.57% Test: 69.32%\n",
            "Target tensor shape: torch.Size([90941, 1])\n",
            "Squeezed target tensor shape: torch.Size([90941])\n",
            "Epoch: 79, Loss: 0.9420, Train: 72.77%, Valid: 70.69% Test: 69.43%\n",
            "Target tensor shape: torch.Size([90941, 1])\n",
            "Squeezed target tensor shape: torch.Size([90941])\n",
            "Epoch: 80, Loss: 0.9409, Train: 72.92%, Valid: 70.95% Test: 69.78%\n",
            "Target tensor shape: torch.Size([90941, 1])\n",
            "Squeezed target tensor shape: torch.Size([90941])\n",
            "Epoch: 81, Loss: 0.9388, Train: 73.07%, Valid: 71.25% Test: 70.52%\n",
            "Target tensor shape: torch.Size([90941, 1])\n",
            "Squeezed target tensor shape: torch.Size([90941])\n",
            "Epoch: 82, Loss: 0.9364, Train: 73.16%, Valid: 71.51% Test: 70.93%\n",
            "Target tensor shape: torch.Size([90941, 1])\n",
            "Squeezed target tensor shape: torch.Size([90941])\n",
            "Epoch: 83, Loss: 0.9362, Train: 73.30%, Valid: 71.66% Test: 71.08%\n",
            "Target tensor shape: torch.Size([90941, 1])\n",
            "Squeezed target tensor shape: torch.Size([90941])\n",
            "Epoch: 84, Loss: 0.9345, Train: 73.31%, Valid: 71.56% Test: 70.47%\n",
            "Target tensor shape: torch.Size([90941, 1])\n",
            "Squeezed target tensor shape: torch.Size([90941])\n",
            "Epoch: 85, Loss: 0.9342, Train: 73.29%, Valid: 71.32% Test: 69.91%\n",
            "Target tensor shape: torch.Size([90941, 1])\n",
            "Squeezed target tensor shape: torch.Size([90941])\n",
            "Epoch: 86, Loss: 0.9318, Train: 73.30%, Valid: 71.13% Test: 69.86%\n",
            "Target tensor shape: torch.Size([90941, 1])\n",
            "Squeezed target tensor shape: torch.Size([90941])\n",
            "Epoch: 87, Loss: 0.9324, Train: 73.27%, Valid: 71.42% Test: 70.46%\n",
            "Target tensor shape: torch.Size([90941, 1])\n",
            "Squeezed target tensor shape: torch.Size([90941])\n",
            "Epoch: 88, Loss: 0.9275, Train: 73.29%, Valid: 71.40% Test: 70.87%\n",
            "Target tensor shape: torch.Size([90941, 1])\n",
            "Squeezed target tensor shape: torch.Size([90941])\n",
            "Epoch: 89, Loss: 0.9259, Train: 73.31%, Valid: 71.56% Test: 71.02%\n",
            "Target tensor shape: torch.Size([90941, 1])\n",
            "Squeezed target tensor shape: torch.Size([90941])\n",
            "Epoch: 90, Loss: 0.9271, Train: 73.46%, Valid: 71.23% Test: 70.19%\n",
            "Target tensor shape: torch.Size([90941, 1])\n",
            "Squeezed target tensor shape: torch.Size([90941])\n",
            "Epoch: 91, Loss: 0.9240, Train: 73.41%, Valid: 70.92% Test: 69.73%\n",
            "Target tensor shape: torch.Size([90941, 1])\n",
            "Squeezed target tensor shape: torch.Size([90941])\n",
            "Epoch: 92, Loss: 0.9241, Train: 73.29%, Valid: 70.69% Test: 69.53%\n",
            "Target tensor shape: torch.Size([90941, 1])\n",
            "Squeezed target tensor shape: torch.Size([90941])\n",
            "Epoch: 93, Loss: 0.9180, Train: 73.47%, Valid: 71.00% Test: 69.74%\n",
            "Target tensor shape: torch.Size([90941, 1])\n",
            "Squeezed target tensor shape: torch.Size([90941])\n",
            "Epoch: 94, Loss: 0.9197, Train: 73.50%, Valid: 71.38% Test: 70.40%\n",
            "Target tensor shape: torch.Size([90941, 1])\n",
            "Squeezed target tensor shape: torch.Size([90941])\n",
            "Epoch: 95, Loss: 0.9180, Train: 73.53%, Valid: 71.64% Test: 71.13%\n",
            "Target tensor shape: torch.Size([90941, 1])\n",
            "Squeezed target tensor shape: torch.Size([90941])\n",
            "Epoch: 96, Loss: 0.9173, Train: 73.52%, Valid: 71.59% Test: 71.06%\n",
            "Target tensor shape: torch.Size([90941, 1])\n",
            "Squeezed target tensor shape: torch.Size([90941])\n",
            "Epoch: 97, Loss: 0.9166, Train: 73.79%, Valid: 71.44% Test: 70.44%\n",
            "Target tensor shape: torch.Size([90941, 1])\n",
            "Squeezed target tensor shape: torch.Size([90941])\n",
            "Epoch: 98, Loss: 0.9150, Train: 73.78%, Valid: 71.17% Test: 69.76%\n",
            "Target tensor shape: torch.Size([90941, 1])\n",
            "Squeezed target tensor shape: torch.Size([90941])\n",
            "Epoch: 99, Loss: 0.9133, Train: 73.84%, Valid: 71.56% Test: 70.41%\n",
            "Target tensor shape: torch.Size([90941, 1])\n",
            "Squeezed target tensor shape: torch.Size([90941])\n",
            "Epoch: 100, Loss: 0.9106, Train: 73.81%, Valid: 71.74% Test: 71.13%\n"
          ]
        }
      ]
    },
    {
      "cell_type": "markdown",
      "metadata": {
        "id": "dQtt-EKA8P4r"
      },
      "source": [
        "## Question 5: What are your `best_model` validation and test accuracies?(20 points)\n",
        "\n",
        "Run the cell below to see the results of your best of model and save your model's predictions to a file named *ogbn-arxiv_node.csv*. You can view this file by clicking on the *Folder* icon on the left side pannel. Report the results on Gradescope."
      ]
    },
    {
      "cell_type": "code",
      "metadata": {
        "id": "EqcextqOL2FX",
        "colab": {
          "base_uri": "https://localhost:8080/"
        },
        "outputId": "7a6463aa-b007-418e-9c84-883895ff445b"
      },
      "source": [
        "if 'IS_GRADESCOPE_ENV' not in os.environ:\n",
        "  best_result = test(best_model, data, split_idx, evaluator, save_model_results=True)\n",
        "  train_acc, valid_acc, test_acc = best_result\n",
        "  print(f'Best model: '\n",
        "        f'Train: {100 * train_acc:.2f}%, '\n",
        "        f'Valid: {100 * valid_acc:.2f}% '\n",
        "        f'Test: {100 * test_acc:.2f}%')"
      ],
      "execution_count": 96,
      "outputs": [
        {
          "output_type": "stream",
          "name": "stdout",
          "text": [
            "Saving Model Predictions\n",
            "Best model: Train: 73.81%, Valid: 71.74% Test: 71.13%\n"
          ]
        }
      ]
    },
    {
      "cell_type": "markdown",
      "metadata": {
        "id": "R8pOD6y80TyI"
      },
      "source": [
        "# 4) GNN: Graph Property Prediction\n",
        "\n",
        "In this section we will create a graph neural network for graph property prediction (graph classification).\n"
      ]
    },
    {
      "cell_type": "markdown",
      "metadata": {
        "id": "vRg5VOEdQTa4"
      },
      "source": [
        "## Load and preprocess the dataset"
      ]
    },
    {
      "cell_type": "code",
      "metadata": {
        "id": "LXb-O5QUIgTH",
        "colab": {
          "base_uri": "https://localhost:8080/"
        },
        "outputId": "6ec001d5-07d9-438a-d7a3-d8a2635e0149"
      },
      "source": [
        "from ogb.graphproppred import PygGraphPropPredDataset, Evaluator\n",
        "from torch_geometric.data import DataLoader\n",
        "from tqdm.notebook import tqdm\n",
        "\n",
        "if 'IS_GRADESCOPE_ENV' not in os.environ:\n",
        "  # Load the dataset\n",
        "  dataset = PygGraphPropPredDataset(name='ogbg-molhiv')\n",
        "\n",
        "  device = 'cuda' if torch.cuda.is_available() else 'cpu'\n",
        "  print('Device: {}'.format(device))\n",
        "\n",
        "  split_idx = dataset.get_idx_split()\n",
        "\n",
        "  # Check task type\n",
        "  print('Task type: {}'.format(dataset.task_type))"
      ],
      "execution_count": 97,
      "outputs": [
        {
          "output_type": "stream",
          "name": "stdout",
          "text": [
            "Downloading http://snap.stanford.edu/ogb/data/graphproppred/csv_mol_download/hiv.zip\n"
          ]
        },
        {
          "output_type": "stream",
          "name": "stderr",
          "text": [
            "Downloaded 0.00 GB: 100%|██████████| 3/3 [00:00<00:00,  4.37it/s]\n",
            "Processing...\n"
          ]
        },
        {
          "output_type": "stream",
          "name": "stdout",
          "text": [
            "Extracting dataset/hiv.zip\n",
            "Loading necessary files...\n",
            "This might take a while.\n",
            "Processing graphs...\n"
          ]
        },
        {
          "output_type": "stream",
          "name": "stderr",
          "text": [
            "100%|██████████| 41127/41127 [00:00<00:00, 113705.16it/s]\n"
          ]
        },
        {
          "output_type": "stream",
          "name": "stdout",
          "text": [
            "Converting graphs into PyG objects...\n"
          ]
        },
        {
          "output_type": "stream",
          "name": "stderr",
          "text": [
            "100%|██████████| 41127/41127 [00:01<00:00, 26415.62it/s]\n"
          ]
        },
        {
          "output_type": "stream",
          "name": "stdout",
          "text": [
            "Saving...\n",
            "Device: cuda\n",
            "Task type: binary classification\n"
          ]
        },
        {
          "output_type": "stream",
          "name": "stderr",
          "text": [
            "Done!\n"
          ]
        }
      ]
    },
    {
      "cell_type": "code",
      "metadata": {
        "id": "7cHHbgW1c5hi",
        "colab": {
          "base_uri": "https://localhost:8080/"
        },
        "outputId": "3d72d32a-5845-4a70-e7a7-2b80fb381da3"
      },
      "source": [
        "# Load the dataset splits into corresponding dataloaders\n",
        "# We will train the graph classification task on a batch of 32 graphs\n",
        "# Shuffle the order of graphs for training set\n",
        "if 'IS_GRADESCOPE_ENV' not in os.environ:\n",
        "  train_loader = DataLoader(dataset[split_idx[\"train\"]], batch_size=32, shuffle=True, num_workers=0)\n",
        "  valid_loader = DataLoader(dataset[split_idx[\"valid\"]], batch_size=32, shuffle=False, num_workers=0)\n",
        "  test_loader = DataLoader(dataset[split_idx[\"test\"]], batch_size=32, shuffle=False, num_workers=0)"
      ],
      "execution_count": 98,
      "outputs": [
        {
          "output_type": "stream",
          "name": "stderr",
          "text": [
            "/usr/local/lib/python3.10/dist-packages/torch_geometric/deprecation.py:26: UserWarning: 'data.DataLoader' is deprecated, use 'loader.DataLoader' instead\n",
            "  warnings.warn(out)\n"
          ]
        }
      ]
    },
    {
      "cell_type": "code",
      "metadata": {
        "id": "AYrSnOj0Y4DK"
      },
      "source": [
        "if 'IS_GRADESCOPE_ENV' not in os.environ:\n",
        "  # Please do not change the args\n",
        "  args = {\n",
        "      'device': device,\n",
        "      'num_layers': 5,\n",
        "      'hidden_dim': 256,\n",
        "      'dropout': 0.5,\n",
        "      'lr': 0.001,\n",
        "      'epochs': 30,\n",
        "  }\n",
        "  args"
      ],
      "execution_count": 99,
      "outputs": []
    },
    {
      "cell_type": "markdown",
      "metadata": {
        "id": "7WLhguSTeazy"
      },
      "source": [
        "## Graph Prediction Model"
      ]
    },
    {
      "cell_type": "markdown",
      "metadata": {
        "id": "u05Z14TRYPGn"
      },
      "source": [
        "### Graph Mini-Batching\n",
        "Before diving into the actual model, we introduce the concept of mini-batching with graphs. In order to parallelize the processing of a mini-batch of graphs, PyG combines the graphs into a single disconnected graph data object (*torch_geometric.data.Batch*). *torch_geometric.data.Batch* inherits from *torch_geometric.data.Data* (introduced earlier) and contains an additional attribute called `batch`.\n",
        "\n",
        "The `batch` attribute is a vector mapping each node to the index of its corresponding graph within the mini-batch:\n",
        "\n",
        "    batch = [0, ..., 0, 1, ..., n - 2, n - 1, ..., n - 1]\n",
        "\n",
        "This attribute is crucial for associating which graph each node belongs to and can be used to e.g. average the node embeddings for each graph individually to compute graph level embeddings.\n",
        "\n"
      ]
    },
    {
      "cell_type": "markdown",
      "metadata": {
        "id": "Pcic9NNU3nGK"
      },
      "source": [
        "### Implemention\n",
        "Now, we have all of the tools to implement a GCN Graph Prediction model!  \n",
        "\n",
        "We will reuse the existing GCN model to generate `node_embeddings` and then use  `Global Pooling` over the nodes to create graph level embeddings that can be used to predict properties for the each graph. Remeber that the `batch` attribute will be essential for performining Global Pooling over our mini-batch of graphs."
      ]
    },
    {
      "cell_type": "code",
      "metadata": {
        "id": "3_Kq3zyjeZ22"
      },
      "source": [
        "from ogb.graphproppred.mol_encoder import AtomEncoder\n",
        "from torch_geometric.nn import global_add_pool, global_mean_pool\n",
        "\n",
        "### GCN to predict graph property\n",
        "class GCN_Graph(torch.nn.Module):\n",
        "    def __init__(self, hidden_dim, output_dim, num_layers, dropout):\n",
        "        super(GCN_Graph, self).__init__()\n",
        "\n",
        "        # Load encoders for Atoms in molecule graphs\n",
        "        self.node_encoder = AtomEncoder(hidden_dim)\n",
        "\n",
        "        # Node embedding model\n",
        "        # Note that the input_dim and output_dim are set to hidden_dim\n",
        "        self.gnn_node = GCN(hidden_dim, hidden_dim,\n",
        "            hidden_dim, num_layers, dropout, return_embeds=True)\n",
        "\n",
        "        self.pool = None\n",
        "\n",
        "        ############# Your code here ############\n",
        "        ## Note:\n",
        "        ## 1. Initialize self.pool as a global mean pooling layer\n",
        "        ## For more information please refer to the documentation:\n",
        "        ## https://pytorch-geometric.readthedocs.io/en/latest/modules/nn.html#global-pooling-layers\n",
        "\n",
        "        #########################################\n",
        "\n",
        "        # Output layer\n",
        "        self.linear = torch.nn.Linear(hidden_dim, output_dim)\n",
        "\n",
        "\n",
        "    def reset_parameters(self):\n",
        "      self.gnn_node.reset_parameters()\n",
        "      self.linear.reset_parameters()\n",
        "\n",
        "    def forward(self, batched_data):\n",
        "        # TODO: Implement a function that takes as input a\n",
        "        # mini-batch of graphs (torch_geometric.data.Batch) and\n",
        "        # returns the predicted graph property for each graph.\n",
        "        #\n",
        "        # NOTE: Since we are predicting graph level properties,\n",
        "        # your output will be a tensor with dimension equaling\n",
        "        # the number of graphs in the mini-batch\n",
        "\n",
        "\n",
        "        # Extract important attributes of our mini-batch\n",
        "        x, edge_index, batch = batched_data.x, batched_data.edge_index, batched_data.batch\n",
        "        embed = self.node_encoder(x)\n",
        "\n",
        "        out = None\n",
        "\n",
        "        ############# Your code here ############\n",
        "        ## Note:\n",
        "        ## 1. Construct node embeddings using existing GCN model\n",
        "        ## 2. Use the global pooling layer to aggregate features for each individual graph\n",
        "        ## For more information please refer to the documentation:\n",
        "        ## https://pytorch-geometric.readthedocs.io/en/latest/modules/nn.html#global-pooling-layers\n",
        "        ## 3. Use a linear layer to predict each graph's property\n",
        "        ## (~3 lines of code)\n",
        "\n",
        "        #########################################\n",
        "\n",
        "        return out"
      ],
      "execution_count": null,
      "outputs": []
    },
    {
      "cell_type": "code",
      "metadata": {
        "id": "FJjnGuMSbjX0"
      },
      "source": [
        "def train(model, device, data_loader, optimizer, loss_fn):\n",
        "    # TODO: Implement a function that trains your model by\n",
        "    # using the given optimizer and loss_fn.\n",
        "    model.train()\n",
        "    loss = 0\n",
        "\n",
        "    for step, batch in enumerate(tqdm(data_loader, desc=\"Iteration\")):\n",
        "      batch = batch.to(device)\n",
        "\n",
        "      if batch.x.shape[0] == 1 or batch.batch[-1] == 0:\n",
        "          pass\n",
        "      else:\n",
        "        ## ignore nan targets (unlabeled) when computing training loss.\n",
        "        is_labeled = batch.y == batch.y\n",
        "\n",
        "        ############# Your code here ############\n",
        "        ## Note:\n",
        "        ## 1. Zero grad the optimizer\n",
        "        ## 2. Feed the data into the model\n",
        "        ## 3. Use `is_labeled` mask to filter output and labels\n",
        "        ## 4. You may need to change the type of label to torch.float32\n",
        "        ## 5. Feed the output and label to the loss_fn\n",
        "        ## (~3 lines of code)\n",
        "\n",
        "        #########################################\n",
        "\n",
        "        loss.backward()\n",
        "        optimizer.step()\n",
        "\n",
        "    return loss.item()"
      ],
      "execution_count": null,
      "outputs": []
    },
    {
      "cell_type": "code",
      "metadata": {
        "id": "ztPHXq_Gzn7U"
      },
      "source": [
        "# The evaluation function\n",
        "def eval(model, device, loader, evaluator, save_model_results=False, save_file=None):\n",
        "    model.eval()\n",
        "    y_true = []\n",
        "    y_pred = []\n",
        "\n",
        "    for step, batch in enumerate(tqdm(loader, desc=\"Iteration\")):\n",
        "        batch = batch.to(device)\n",
        "\n",
        "        if batch.x.shape[0] == 1:\n",
        "            pass\n",
        "        else:\n",
        "            with torch.no_grad():\n",
        "                pred = model(batch)\n",
        "\n",
        "            y_true.append(batch.y.view(pred.shape).detach().cpu())\n",
        "            y_pred.append(pred.detach().cpu())\n",
        "\n",
        "    y_true = torch.cat(y_true, dim = 0).numpy()\n",
        "    y_pred = torch.cat(y_pred, dim = 0).numpy()\n",
        "\n",
        "    input_dict = {\"y_true\": y_true, \"y_pred\": y_pred}\n",
        "\n",
        "    if save_model_results:\n",
        "        print (\"Saving Model Predictions\")\n",
        "\n",
        "        # Create a pandas dataframe with a two columns\n",
        "        # y_pred | y_true\n",
        "        data = {}\n",
        "        data['y_pred'] = y_pred.reshape(-1)\n",
        "        data['y_true'] = y_true.reshape(-1)\n",
        "\n",
        "        df = pd.DataFrame(data=data)\n",
        "        # Save to csv\n",
        "        df.to_csv('ogbg-molhiv_graph_' + save_file + '.csv', sep=',', index=False)\n",
        "\n",
        "    return evaluator.eval(input_dict)"
      ],
      "execution_count": null,
      "outputs": []
    },
    {
      "cell_type": "code",
      "metadata": {
        "id": "MR1wQ4hMZeMw"
      },
      "source": [
        "if 'IS_GRADESCOPE_ENV' not in os.environ:\n",
        "  model = GCN_Graph(args['hidden_dim'],\n",
        "              dataset.num_tasks, args['num_layers'],\n",
        "              args['dropout']).to(device)\n",
        "  evaluator = Evaluator(name='ogbg-molhiv')"
      ],
      "execution_count": null,
      "outputs": []
    },
    {
      "cell_type": "code",
      "metadata": {
        "id": "qJGTNZiuZy0A"
      },
      "source": [
        "# Please do not change these args\n",
        "# Training should take <10min using GPU runtime\n",
        "import copy\n",
        "\n",
        "if 'IS_GRADESCOPE_ENV' not in os.environ:\n",
        "  model.reset_parameters()\n",
        "\n",
        "  optimizer = torch.optim.Adam(model.parameters(), lr=args['lr'])\n",
        "  loss_fn = torch.nn.BCEWithLogitsLoss()\n",
        "\n",
        "  best_model = None\n",
        "  best_valid_acc = 0\n",
        "\n",
        "  for epoch in range(1, 1 + args[\"epochs\"]):\n",
        "    print('Training...')\n",
        "    loss = train(model, device, train_loader, optimizer, loss_fn)\n",
        "\n",
        "    print('Evaluating...')\n",
        "    train_result = eval(model, device, train_loader, evaluator)\n",
        "    val_result = eval(model, device, valid_loader, evaluator)\n",
        "    test_result = eval(model, device, test_loader, evaluator)\n",
        "\n",
        "    train_acc, valid_acc, test_acc = train_result[dataset.eval_metric], val_result[dataset.eval_metric], test_result[dataset.eval_metric]\n",
        "    if valid_acc > best_valid_acc:\n",
        "        best_valid_acc = valid_acc\n",
        "        best_model = copy.deepcopy(model)\n",
        "    print(f'Epoch: {epoch:02d}, '\n",
        "          f'Loss: {loss:.4f}, '\n",
        "          f'Train: {100 * train_acc:.2f}%, '\n",
        "          f'Valid: {100 * valid_acc:.2f}% '\n",
        "          f'Test: {100 * test_acc:.2f}%')"
      ],
      "execution_count": null,
      "outputs": []
    },
    {
      "cell_type": "markdown",
      "metadata": {
        "id": "6I17-Qso_n88"
      },
      "source": [
        "## Question 6: What are your `best_model` validation and test ROC-AUC scores? (20 points)\n",
        "\n",
        "Run the cell below to see the results of your best of model and save your model's predictions in files named *ogbg-molhiv_graph_[valid,test].csv*. Again, you can view the files by clicking on the *Folder* icon on the left side pannel. Report the results on Gradescope."
      ]
    },
    {
      "cell_type": "code",
      "metadata": {
        "id": "Oq5QaG21dOOO"
      },
      "source": [
        "if 'IS_GRADESCOPE_ENV' not in os.environ:\n",
        "  train_auroc = eval(best_model, device, train_loader, evaluator)[dataset.eval_metric]\n",
        "  valid_auroc = eval(best_model, device, valid_loader, evaluator, save_model_results=True, save_file=\"valid\")[dataset.eval_metric]\n",
        "  test_auroc  = eval(best_model, device, test_loader, evaluator, save_model_results=True, save_file=\"test\")[dataset.eval_metric]\n",
        "\n",
        "  print(f'Best model: '\n",
        "      f'Train: {100 * train_auroc:.2f}%, '\n",
        "      f'Valid: {100 * valid_auroc:.2f}% '\n",
        "      f'Test: {100 * test_auroc:.2f}%')"
      ],
      "execution_count": null,
      "outputs": []
    },
    {
      "cell_type": "markdown",
      "metadata": {
        "id": "gBi_t8n0iZ4P"
      },
      "source": [
        "## Question 7 (Optional): Experiment with the two other global pooling layers in Pytorch Geometric."
      ]
    },
    {
      "cell_type": "markdown",
      "metadata": {
        "id": "e7JXsMTBgeOI"
      },
      "source": [
        "# Submission\n",
        "\n",
        "To submit Colab 2, please submit to the following assignments on Gradescope:\n",
        "\n",
        "1. \"Colab 2\": submit your answers to the questions in this assignment\n",
        "2. \"Colab 2 Code\": submit your completed *CS224W_Colab2.ipynb*. From the \"File\" menu select \"Download .ipynb\" to save a local copy of your completed Colab. **PLEASE DO NOT CHANGE THE NAME!** The autograder depends on the .ipynb file being called \"CS224W_Colab2.ipynb\"."
      ]
    },
    {
      "cell_type": "code",
      "source": [],
      "metadata": {
        "id": "L3Q5WmndEnAJ"
      },
      "execution_count": null,
      "outputs": []
    }
  ]
}